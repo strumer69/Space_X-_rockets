{
 "cells": [
  {
   "cell_type": "markdown",
   "id": "6dafc142",
   "metadata": {},
   "source": [
    "### we want too predict whether the rockets of Space_x will land successfully or not\n",
    "* if the class is Zero it means it will fail otherwise it will successfully land (class =1)"
   ]
  },
  {
   "cell_type": "code",
   "execution_count": 252,
   "id": "aeb9c67d",
   "metadata": {},
   "outputs": [
    {
     "data": {
      "text/plain": [
       "'C:\\\\Users\\\\ASUS\\\\gits-update\\\\Space_X-_rockets'"
      ]
     },
     "execution_count": 252,
     "metadata": {},
     "output_type": "execute_result"
    }
   ],
   "source": [
    "import os\n",
    "os.getcwd()"
   ]
  },
  {
   "cell_type": "code",
   "execution_count": 253,
   "id": "d0bcbb9b",
   "metadata": {},
   "outputs": [],
   "source": [
    "import pandas as pd\n",
    "import numpy as np"
   ]
  },
  {
   "cell_type": "code",
   "execution_count": 254,
   "id": "49f94bd9",
   "metadata": {},
   "outputs": [],
   "source": [
    "df=pd.read_csv('dataset_falcon9.csv')"
   ]
  },
  {
   "cell_type": "code",
   "execution_count": 255,
   "id": "95a3bb4d",
   "metadata": {},
   "outputs": [
    {
     "data": {
      "text/html": [
       "<div>\n",
       "<style scoped>\n",
       "    .dataframe tbody tr th:only-of-type {\n",
       "        vertical-align: middle;\n",
       "    }\n",
       "\n",
       "    .dataframe tbody tr th {\n",
       "        vertical-align: top;\n",
       "    }\n",
       "\n",
       "    .dataframe thead th {\n",
       "        text-align: right;\n",
       "    }\n",
       "</style>\n",
       "<table border=\"1\" class=\"dataframe\">\n",
       "  <thead>\n",
       "    <tr style=\"text-align: right;\">\n",
       "      <th></th>\n",
       "      <th>FlightNumber</th>\n",
       "      <th>Date</th>\n",
       "      <th>BoosterVersion</th>\n",
       "      <th>PayloadMass</th>\n",
       "      <th>Orbit</th>\n",
       "      <th>LaunchSite</th>\n",
       "      <th>Outcome</th>\n",
       "      <th>Flights</th>\n",
       "      <th>GridFins</th>\n",
       "      <th>Reused</th>\n",
       "      <th>Legs</th>\n",
       "      <th>LandingPad</th>\n",
       "      <th>Block</th>\n",
       "      <th>ReusedCount</th>\n",
       "      <th>Serial</th>\n",
       "      <th>Longitude</th>\n",
       "      <th>Latitude</th>\n",
       "      <th>Class</th>\n",
       "    </tr>\n",
       "  </thead>\n",
       "  <tbody>\n",
       "    <tr>\n",
       "      <th>0</th>\n",
       "      <td>1</td>\n",
       "      <td>2010-06-04</td>\n",
       "      <td>Falcon 9</td>\n",
       "      <td>6104.959412</td>\n",
       "      <td>LEO</td>\n",
       "      <td>CCAFS SLC 40</td>\n",
       "      <td>None None</td>\n",
       "      <td>1</td>\n",
       "      <td>False</td>\n",
       "      <td>False</td>\n",
       "      <td>False</td>\n",
       "      <td>NaN</td>\n",
       "      <td>1.0</td>\n",
       "      <td>0</td>\n",
       "      <td>B0003</td>\n",
       "      <td>-80.577366</td>\n",
       "      <td>28.561857</td>\n",
       "      <td>0</td>\n",
       "    </tr>\n",
       "    <tr>\n",
       "      <th>1</th>\n",
       "      <td>2</td>\n",
       "      <td>2012-05-22</td>\n",
       "      <td>Falcon 9</td>\n",
       "      <td>525.000000</td>\n",
       "      <td>LEO</td>\n",
       "      <td>CCAFS SLC 40</td>\n",
       "      <td>None None</td>\n",
       "      <td>1</td>\n",
       "      <td>False</td>\n",
       "      <td>False</td>\n",
       "      <td>False</td>\n",
       "      <td>NaN</td>\n",
       "      <td>1.0</td>\n",
       "      <td>0</td>\n",
       "      <td>B0005</td>\n",
       "      <td>-80.577366</td>\n",
       "      <td>28.561857</td>\n",
       "      <td>0</td>\n",
       "    </tr>\n",
       "    <tr>\n",
       "      <th>2</th>\n",
       "      <td>3</td>\n",
       "      <td>2013-03-01</td>\n",
       "      <td>Falcon 9</td>\n",
       "      <td>677.000000</td>\n",
       "      <td>ISS</td>\n",
       "      <td>CCAFS SLC 40</td>\n",
       "      <td>None None</td>\n",
       "      <td>1</td>\n",
       "      <td>False</td>\n",
       "      <td>False</td>\n",
       "      <td>False</td>\n",
       "      <td>NaN</td>\n",
       "      <td>1.0</td>\n",
       "      <td>0</td>\n",
       "      <td>B0007</td>\n",
       "      <td>-80.577366</td>\n",
       "      <td>28.561857</td>\n",
       "      <td>0</td>\n",
       "    </tr>\n",
       "    <tr>\n",
       "      <th>3</th>\n",
       "      <td>4</td>\n",
       "      <td>2013-09-29</td>\n",
       "      <td>Falcon 9</td>\n",
       "      <td>500.000000</td>\n",
       "      <td>PO</td>\n",
       "      <td>VAFB SLC 4E</td>\n",
       "      <td>False Ocean</td>\n",
       "      <td>1</td>\n",
       "      <td>False</td>\n",
       "      <td>False</td>\n",
       "      <td>False</td>\n",
       "      <td>NaN</td>\n",
       "      <td>1.0</td>\n",
       "      <td>0</td>\n",
       "      <td>B1003</td>\n",
       "      <td>-120.610829</td>\n",
       "      <td>34.632093</td>\n",
       "      <td>0</td>\n",
       "    </tr>\n",
       "    <tr>\n",
       "      <th>4</th>\n",
       "      <td>5</td>\n",
       "      <td>2013-12-03</td>\n",
       "      <td>Falcon 9</td>\n",
       "      <td>3170.000000</td>\n",
       "      <td>GTO</td>\n",
       "      <td>CCAFS SLC 40</td>\n",
       "      <td>None None</td>\n",
       "      <td>1</td>\n",
       "      <td>False</td>\n",
       "      <td>False</td>\n",
       "      <td>False</td>\n",
       "      <td>NaN</td>\n",
       "      <td>1.0</td>\n",
       "      <td>0</td>\n",
       "      <td>B1004</td>\n",
       "      <td>-80.577366</td>\n",
       "      <td>28.561857</td>\n",
       "      <td>0</td>\n",
       "    </tr>\n",
       "    <tr>\n",
       "      <th>...</th>\n",
       "      <td>...</td>\n",
       "      <td>...</td>\n",
       "      <td>...</td>\n",
       "      <td>...</td>\n",
       "      <td>...</td>\n",
       "      <td>...</td>\n",
       "      <td>...</td>\n",
       "      <td>...</td>\n",
       "      <td>...</td>\n",
       "      <td>...</td>\n",
       "      <td>...</td>\n",
       "      <td>...</td>\n",
       "      <td>...</td>\n",
       "      <td>...</td>\n",
       "      <td>...</td>\n",
       "      <td>...</td>\n",
       "      <td>...</td>\n",
       "      <td>...</td>\n",
       "    </tr>\n",
       "    <tr>\n",
       "      <th>85</th>\n",
       "      <td>86</td>\n",
       "      <td>2020-09-03</td>\n",
       "      <td>Falcon 9</td>\n",
       "      <td>15400.000000</td>\n",
       "      <td>VLEO</td>\n",
       "      <td>KSC LC 39A</td>\n",
       "      <td>True ASDS</td>\n",
       "      <td>2</td>\n",
       "      <td>True</td>\n",
       "      <td>True</td>\n",
       "      <td>True</td>\n",
       "      <td>5e9e3032383ecb6bb234e7ca</td>\n",
       "      <td>5.0</td>\n",
       "      <td>2</td>\n",
       "      <td>B1060</td>\n",
       "      <td>-80.603956</td>\n",
       "      <td>28.608058</td>\n",
       "      <td>1</td>\n",
       "    </tr>\n",
       "    <tr>\n",
       "      <th>86</th>\n",
       "      <td>87</td>\n",
       "      <td>2020-10-06</td>\n",
       "      <td>Falcon 9</td>\n",
       "      <td>15400.000000</td>\n",
       "      <td>VLEO</td>\n",
       "      <td>KSC LC 39A</td>\n",
       "      <td>True ASDS</td>\n",
       "      <td>3</td>\n",
       "      <td>True</td>\n",
       "      <td>True</td>\n",
       "      <td>True</td>\n",
       "      <td>5e9e3032383ecb6bb234e7ca</td>\n",
       "      <td>5.0</td>\n",
       "      <td>2</td>\n",
       "      <td>B1058</td>\n",
       "      <td>-80.603956</td>\n",
       "      <td>28.608058</td>\n",
       "      <td>1</td>\n",
       "    </tr>\n",
       "    <tr>\n",
       "      <th>87</th>\n",
       "      <td>88</td>\n",
       "      <td>2020-10-18</td>\n",
       "      <td>Falcon 9</td>\n",
       "      <td>15400.000000</td>\n",
       "      <td>VLEO</td>\n",
       "      <td>KSC LC 39A</td>\n",
       "      <td>True ASDS</td>\n",
       "      <td>6</td>\n",
       "      <td>True</td>\n",
       "      <td>True</td>\n",
       "      <td>True</td>\n",
       "      <td>5e9e3032383ecb6bb234e7ca</td>\n",
       "      <td>5.0</td>\n",
       "      <td>5</td>\n",
       "      <td>B1051</td>\n",
       "      <td>-80.603956</td>\n",
       "      <td>28.608058</td>\n",
       "      <td>1</td>\n",
       "    </tr>\n",
       "    <tr>\n",
       "      <th>88</th>\n",
       "      <td>89</td>\n",
       "      <td>2020-10-24</td>\n",
       "      <td>Falcon 9</td>\n",
       "      <td>15400.000000</td>\n",
       "      <td>VLEO</td>\n",
       "      <td>CCAFS SLC 40</td>\n",
       "      <td>True ASDS</td>\n",
       "      <td>3</td>\n",
       "      <td>True</td>\n",
       "      <td>True</td>\n",
       "      <td>True</td>\n",
       "      <td>5e9e3033383ecbb9e534e7cc</td>\n",
       "      <td>5.0</td>\n",
       "      <td>2</td>\n",
       "      <td>B1060</td>\n",
       "      <td>-80.577366</td>\n",
       "      <td>28.561857</td>\n",
       "      <td>1</td>\n",
       "    </tr>\n",
       "    <tr>\n",
       "      <th>89</th>\n",
       "      <td>90</td>\n",
       "      <td>2020-11-05</td>\n",
       "      <td>Falcon 9</td>\n",
       "      <td>3681.000000</td>\n",
       "      <td>MEO</td>\n",
       "      <td>CCAFS SLC 40</td>\n",
       "      <td>True ASDS</td>\n",
       "      <td>1</td>\n",
       "      <td>True</td>\n",
       "      <td>False</td>\n",
       "      <td>True</td>\n",
       "      <td>5e9e3032383ecb6bb234e7ca</td>\n",
       "      <td>5.0</td>\n",
       "      <td>0</td>\n",
       "      <td>B1062</td>\n",
       "      <td>-80.577366</td>\n",
       "      <td>28.561857</td>\n",
       "      <td>1</td>\n",
       "    </tr>\n",
       "  </tbody>\n",
       "</table>\n",
       "<p>90 rows × 18 columns</p>\n",
       "</div>"
      ],
      "text/plain": [
       "    FlightNumber        Date BoosterVersion   PayloadMass Orbit    LaunchSite  \\\n",
       "0              1  2010-06-04       Falcon 9   6104.959412   LEO  CCAFS SLC 40   \n",
       "1              2  2012-05-22       Falcon 9    525.000000   LEO  CCAFS SLC 40   \n",
       "2              3  2013-03-01       Falcon 9    677.000000   ISS  CCAFS SLC 40   \n",
       "3              4  2013-09-29       Falcon 9    500.000000    PO   VAFB SLC 4E   \n",
       "4              5  2013-12-03       Falcon 9   3170.000000   GTO  CCAFS SLC 40   \n",
       "..           ...         ...            ...           ...   ...           ...   \n",
       "85            86  2020-09-03       Falcon 9  15400.000000  VLEO    KSC LC 39A   \n",
       "86            87  2020-10-06       Falcon 9  15400.000000  VLEO    KSC LC 39A   \n",
       "87            88  2020-10-18       Falcon 9  15400.000000  VLEO    KSC LC 39A   \n",
       "88            89  2020-10-24       Falcon 9  15400.000000  VLEO  CCAFS SLC 40   \n",
       "89            90  2020-11-05       Falcon 9   3681.000000   MEO  CCAFS SLC 40   \n",
       "\n",
       "        Outcome  Flights  GridFins  Reused   Legs                LandingPad  \\\n",
       "0     None None        1     False   False  False                       NaN   \n",
       "1     None None        1     False   False  False                       NaN   \n",
       "2     None None        1     False   False  False                       NaN   \n",
       "3   False Ocean        1     False   False  False                       NaN   \n",
       "4     None None        1     False   False  False                       NaN   \n",
       "..          ...      ...       ...     ...    ...                       ...   \n",
       "85    True ASDS        2      True    True   True  5e9e3032383ecb6bb234e7ca   \n",
       "86    True ASDS        3      True    True   True  5e9e3032383ecb6bb234e7ca   \n",
       "87    True ASDS        6      True    True   True  5e9e3032383ecb6bb234e7ca   \n",
       "88    True ASDS        3      True    True   True  5e9e3033383ecbb9e534e7cc   \n",
       "89    True ASDS        1      True   False   True  5e9e3032383ecb6bb234e7ca   \n",
       "\n",
       "    Block  ReusedCount Serial   Longitude   Latitude  Class  \n",
       "0     1.0            0  B0003  -80.577366  28.561857      0  \n",
       "1     1.0            0  B0005  -80.577366  28.561857      0  \n",
       "2     1.0            0  B0007  -80.577366  28.561857      0  \n",
       "3     1.0            0  B1003 -120.610829  34.632093      0  \n",
       "4     1.0            0  B1004  -80.577366  28.561857      0  \n",
       "..    ...          ...    ...         ...        ...    ...  \n",
       "85    5.0            2  B1060  -80.603956  28.608058      1  \n",
       "86    5.0            2  B1058  -80.603956  28.608058      1  \n",
       "87    5.0            5  B1051  -80.603956  28.608058      1  \n",
       "88    5.0            2  B1060  -80.577366  28.561857      1  \n",
       "89    5.0            0  B1062  -80.577366  28.561857      1  \n",
       "\n",
       "[90 rows x 18 columns]"
      ]
     },
     "execution_count": 255,
     "metadata": {},
     "output_type": "execute_result"
    }
   ],
   "source": [
    "df"
   ]
  },
  {
   "cell_type": "markdown",
   "id": "7de15121",
   "metadata": {},
   "source": [
    "as previuos command (df) does not provide a good vision. we will use the (.info) method"
   ]
  },
  {
   "cell_type": "code",
   "execution_count": 256,
   "id": "9dab09c1",
   "metadata": {},
   "outputs": [
    {
     "name": "stdout",
     "output_type": "stream",
     "text": [
      "<class 'pandas.core.frame.DataFrame'>\n",
      "RangeIndex: 90 entries, 0 to 89\n",
      "Data columns (total 18 columns):\n",
      " #   Column          Non-Null Count  Dtype  \n",
      "---  ------          --------------  -----  \n",
      " 0   FlightNumber    90 non-null     int64  \n",
      " 1   Date            90 non-null     object \n",
      " 2   BoosterVersion  90 non-null     object \n",
      " 3   PayloadMass     90 non-null     float64\n",
      " 4   Orbit           90 non-null     object \n",
      " 5   LaunchSite      90 non-null     object \n",
      " 6   Outcome         90 non-null     object \n",
      " 7   Flights         90 non-null     int64  \n",
      " 8   GridFins        90 non-null     bool   \n",
      " 9   Reused          90 non-null     bool   \n",
      " 10  Legs            90 non-null     bool   \n",
      " 11  LandingPad      64 non-null     object \n",
      " 12  Block           90 non-null     float64\n",
      " 13  ReusedCount     90 non-null     int64  \n",
      " 14  Serial          90 non-null     object \n",
      " 15  Longitude       90 non-null     float64\n",
      " 16  Latitude        90 non-null     float64\n",
      " 17  Class           90 non-null     int64  \n",
      "dtypes: bool(3), float64(4), int64(4), object(7)\n",
      "memory usage: 10.9+ KB\n"
     ]
    }
   ],
   "source": [
    "df.info()"
   ]
  },
  {
   "cell_type": "markdown",
   "id": "9a2ed3d2",
   "metadata": {},
   "source": [
    "* so as a result we have 90 rows (0 to 89) \n",
    "* and 18 columns \n",
    "* 90 non-Null  means all of the data are available (no missing values)\n",
    "* except the column LandingPad that has 64 non_nul. so we have (90-64=26) null values."
   ]
  },
  {
   "cell_type": "code",
   "execution_count": 257,
   "id": "c64acbea",
   "metadata": {},
   "outputs": [
    {
     "data": {
      "text/html": [
       "<div>\n",
       "<style scoped>\n",
       "    .dataframe tbody tr th:only-of-type {\n",
       "        vertical-align: middle;\n",
       "    }\n",
       "\n",
       "    .dataframe tbody tr th {\n",
       "        vertical-align: top;\n",
       "    }\n",
       "\n",
       "    .dataframe thead th {\n",
       "        text-align: right;\n",
       "    }\n",
       "</style>\n",
       "<table border=\"1\" class=\"dataframe\">\n",
       "  <thead>\n",
       "    <tr style=\"text-align: right;\">\n",
       "      <th></th>\n",
       "      <th>FlightNumber</th>\n",
       "      <th>Date</th>\n",
       "      <th>BoosterVersion</th>\n",
       "      <th>PayloadMass</th>\n",
       "      <th>Orbit</th>\n",
       "      <th>LaunchSite</th>\n",
       "      <th>Outcome</th>\n",
       "      <th>Flights</th>\n",
       "      <th>GridFins</th>\n",
       "      <th>Reused</th>\n",
       "      <th>Legs</th>\n",
       "      <th>LandingPad</th>\n",
       "      <th>Block</th>\n",
       "      <th>ReusedCount</th>\n",
       "      <th>Serial</th>\n",
       "      <th>Longitude</th>\n",
       "      <th>Latitude</th>\n",
       "      <th>Class</th>\n",
       "    </tr>\n",
       "  </thead>\n",
       "  <tbody>\n",
       "    <tr>\n",
       "      <th>0</th>\n",
       "      <td>1</td>\n",
       "      <td>2010-06-04</td>\n",
       "      <td>Falcon 9</td>\n",
       "      <td>6104.959412</td>\n",
       "      <td>LEO</td>\n",
       "      <td>CCAFS SLC 40</td>\n",
       "      <td>None None</td>\n",
       "      <td>1</td>\n",
       "      <td>False</td>\n",
       "      <td>False</td>\n",
       "      <td>False</td>\n",
       "      <td>NaN</td>\n",
       "      <td>1.0</td>\n",
       "      <td>0</td>\n",
       "      <td>B0003</td>\n",
       "      <td>-80.577366</td>\n",
       "      <td>28.561857</td>\n",
       "      <td>0</td>\n",
       "    </tr>\n",
       "    <tr>\n",
       "      <th>1</th>\n",
       "      <td>2</td>\n",
       "      <td>2012-05-22</td>\n",
       "      <td>Falcon 9</td>\n",
       "      <td>525.000000</td>\n",
       "      <td>LEO</td>\n",
       "      <td>CCAFS SLC 40</td>\n",
       "      <td>None None</td>\n",
       "      <td>1</td>\n",
       "      <td>False</td>\n",
       "      <td>False</td>\n",
       "      <td>False</td>\n",
       "      <td>NaN</td>\n",
       "      <td>1.0</td>\n",
       "      <td>0</td>\n",
       "      <td>B0005</td>\n",
       "      <td>-80.577366</td>\n",
       "      <td>28.561857</td>\n",
       "      <td>0</td>\n",
       "    </tr>\n",
       "    <tr>\n",
       "      <th>2</th>\n",
       "      <td>3</td>\n",
       "      <td>2013-03-01</td>\n",
       "      <td>Falcon 9</td>\n",
       "      <td>677.000000</td>\n",
       "      <td>ISS</td>\n",
       "      <td>CCAFS SLC 40</td>\n",
       "      <td>None None</td>\n",
       "      <td>1</td>\n",
       "      <td>False</td>\n",
       "      <td>False</td>\n",
       "      <td>False</td>\n",
       "      <td>NaN</td>\n",
       "      <td>1.0</td>\n",
       "      <td>0</td>\n",
       "      <td>B0007</td>\n",
       "      <td>-80.577366</td>\n",
       "      <td>28.561857</td>\n",
       "      <td>0</td>\n",
       "    </tr>\n",
       "    <tr>\n",
       "      <th>3</th>\n",
       "      <td>4</td>\n",
       "      <td>2013-09-29</td>\n",
       "      <td>Falcon 9</td>\n",
       "      <td>500.000000</td>\n",
       "      <td>PO</td>\n",
       "      <td>VAFB SLC 4E</td>\n",
       "      <td>False Ocean</td>\n",
       "      <td>1</td>\n",
       "      <td>False</td>\n",
       "      <td>False</td>\n",
       "      <td>False</td>\n",
       "      <td>NaN</td>\n",
       "      <td>1.0</td>\n",
       "      <td>0</td>\n",
       "      <td>B1003</td>\n",
       "      <td>-120.610829</td>\n",
       "      <td>34.632093</td>\n",
       "      <td>0</td>\n",
       "    </tr>\n",
       "    <tr>\n",
       "      <th>4</th>\n",
       "      <td>5</td>\n",
       "      <td>2013-12-03</td>\n",
       "      <td>Falcon 9</td>\n",
       "      <td>3170.000000</td>\n",
       "      <td>GTO</td>\n",
       "      <td>CCAFS SLC 40</td>\n",
       "      <td>None None</td>\n",
       "      <td>1</td>\n",
       "      <td>False</td>\n",
       "      <td>False</td>\n",
       "      <td>False</td>\n",
       "      <td>NaN</td>\n",
       "      <td>1.0</td>\n",
       "      <td>0</td>\n",
       "      <td>B1004</td>\n",
       "      <td>-80.577366</td>\n",
       "      <td>28.561857</td>\n",
       "      <td>0</td>\n",
       "    </tr>\n",
       "  </tbody>\n",
       "</table>\n",
       "</div>"
      ],
      "text/plain": [
       "   FlightNumber        Date BoosterVersion  PayloadMass Orbit    LaunchSite  \\\n",
       "0             1  2010-06-04       Falcon 9  6104.959412   LEO  CCAFS SLC 40   \n",
       "1             2  2012-05-22       Falcon 9   525.000000   LEO  CCAFS SLC 40   \n",
       "2             3  2013-03-01       Falcon 9   677.000000   ISS  CCAFS SLC 40   \n",
       "3             4  2013-09-29       Falcon 9   500.000000    PO   VAFB SLC 4E   \n",
       "4             5  2013-12-03       Falcon 9  3170.000000   GTO  CCAFS SLC 40   \n",
       "\n",
       "       Outcome  Flights  GridFins  Reused   Legs LandingPad  Block  \\\n",
       "0    None None        1     False   False  False        NaN    1.0   \n",
       "1    None None        1     False   False  False        NaN    1.0   \n",
       "2    None None        1     False   False  False        NaN    1.0   \n",
       "3  False Ocean        1     False   False  False        NaN    1.0   \n",
       "4    None None        1     False   False  False        NaN    1.0   \n",
       "\n",
       "   ReusedCount Serial   Longitude   Latitude  Class  \n",
       "0            0  B0003  -80.577366  28.561857      0  \n",
       "1            0  B0005  -80.577366  28.561857      0  \n",
       "2            0  B0007  -80.577366  28.561857      0  \n",
       "3            0  B1003 -120.610829  34.632093      0  \n",
       "4            0  B1004  -80.577366  28.561857      0  "
      ]
     },
     "execution_count": 257,
     "metadata": {},
     "output_type": "execute_result"
    }
   ],
   "source": [
    "# let seethe first 5 rows\n",
    "df.head()"
   ]
  },
  {
   "cell_type": "code",
   "execution_count": 258,
   "id": "25351d86",
   "metadata": {},
   "outputs": [
    {
     "data": {
      "text/html": [
       "<div>\n",
       "<style scoped>\n",
       "    .dataframe tbody tr th:only-of-type {\n",
       "        vertical-align: middle;\n",
       "    }\n",
       "\n",
       "    .dataframe tbody tr th {\n",
       "        vertical-align: top;\n",
       "    }\n",
       "\n",
       "    .dataframe thead th {\n",
       "        text-align: right;\n",
       "    }\n",
       "</style>\n",
       "<table border=\"1\" class=\"dataframe\">\n",
       "  <thead>\n",
       "    <tr style=\"text-align: right;\">\n",
       "      <th></th>\n",
       "      <th>FlightNumber</th>\n",
       "      <th>Date</th>\n",
       "      <th>BoosterVersion</th>\n",
       "      <th>PayloadMass</th>\n",
       "      <th>Orbit</th>\n",
       "      <th>LaunchSite</th>\n",
       "      <th>Outcome</th>\n",
       "      <th>Flights</th>\n",
       "      <th>GridFins</th>\n",
       "      <th>Reused</th>\n",
       "      <th>Legs</th>\n",
       "      <th>LandingPad</th>\n",
       "      <th>Block</th>\n",
       "      <th>ReusedCount</th>\n",
       "      <th>Serial</th>\n",
       "      <th>Longitude</th>\n",
       "      <th>Latitude</th>\n",
       "      <th>Class</th>\n",
       "    </tr>\n",
       "  </thead>\n",
       "  <tbody>\n",
       "    <tr>\n",
       "      <th>87</th>\n",
       "      <td>88</td>\n",
       "      <td>2020-10-18</td>\n",
       "      <td>Falcon 9</td>\n",
       "      <td>15400.0</td>\n",
       "      <td>VLEO</td>\n",
       "      <td>KSC LC 39A</td>\n",
       "      <td>True ASDS</td>\n",
       "      <td>6</td>\n",
       "      <td>True</td>\n",
       "      <td>True</td>\n",
       "      <td>True</td>\n",
       "      <td>5e9e3032383ecb6bb234e7ca</td>\n",
       "      <td>5.0</td>\n",
       "      <td>5</td>\n",
       "      <td>B1051</td>\n",
       "      <td>-80.603956</td>\n",
       "      <td>28.608058</td>\n",
       "      <td>1</td>\n",
       "    </tr>\n",
       "    <tr>\n",
       "      <th>88</th>\n",
       "      <td>89</td>\n",
       "      <td>2020-10-24</td>\n",
       "      <td>Falcon 9</td>\n",
       "      <td>15400.0</td>\n",
       "      <td>VLEO</td>\n",
       "      <td>CCAFS SLC 40</td>\n",
       "      <td>True ASDS</td>\n",
       "      <td>3</td>\n",
       "      <td>True</td>\n",
       "      <td>True</td>\n",
       "      <td>True</td>\n",
       "      <td>5e9e3033383ecbb9e534e7cc</td>\n",
       "      <td>5.0</td>\n",
       "      <td>2</td>\n",
       "      <td>B1060</td>\n",
       "      <td>-80.577366</td>\n",
       "      <td>28.561857</td>\n",
       "      <td>1</td>\n",
       "    </tr>\n",
       "    <tr>\n",
       "      <th>89</th>\n",
       "      <td>90</td>\n",
       "      <td>2020-11-05</td>\n",
       "      <td>Falcon 9</td>\n",
       "      <td>3681.0</td>\n",
       "      <td>MEO</td>\n",
       "      <td>CCAFS SLC 40</td>\n",
       "      <td>True ASDS</td>\n",
       "      <td>1</td>\n",
       "      <td>True</td>\n",
       "      <td>False</td>\n",
       "      <td>True</td>\n",
       "      <td>5e9e3032383ecb6bb234e7ca</td>\n",
       "      <td>5.0</td>\n",
       "      <td>0</td>\n",
       "      <td>B1062</td>\n",
       "      <td>-80.577366</td>\n",
       "      <td>28.561857</td>\n",
       "      <td>1</td>\n",
       "    </tr>\n",
       "  </tbody>\n",
       "</table>\n",
       "</div>"
      ],
      "text/plain": [
       "    FlightNumber        Date BoosterVersion  PayloadMass Orbit    LaunchSite  \\\n",
       "87            88  2020-10-18       Falcon 9      15400.0  VLEO    KSC LC 39A   \n",
       "88            89  2020-10-24       Falcon 9      15400.0  VLEO  CCAFS SLC 40   \n",
       "89            90  2020-11-05       Falcon 9       3681.0   MEO  CCAFS SLC 40   \n",
       "\n",
       "      Outcome  Flights  GridFins  Reused  Legs                LandingPad  \\\n",
       "87  True ASDS        6      True    True  True  5e9e3032383ecb6bb234e7ca   \n",
       "88  True ASDS        3      True    True  True  5e9e3033383ecbb9e534e7cc   \n",
       "89  True ASDS        1      True   False  True  5e9e3032383ecb6bb234e7ca   \n",
       "\n",
       "    Block  ReusedCount Serial  Longitude   Latitude  Class  \n",
       "87    5.0            5  B1051 -80.603956  28.608058      1  \n",
       "88    5.0            2  B1060 -80.577366  28.561857      1  \n",
       "89    5.0            0  B1062 -80.577366  28.561857      1  "
      ]
     },
     "execution_count": 258,
     "metadata": {},
     "output_type": "execute_result"
    }
   ],
   "source": [
    "# or we can see the tail of our data_set\n",
    "df.tail(3)"
   ]
  },
  {
   "cell_type": "code",
   "execution_count": 259,
   "id": "1c9387c1",
   "metadata": {},
   "outputs": [
    {
     "data": {
      "text/plain": [
       "0      1\n",
       "1      2\n",
       "2      3\n",
       "3      4\n",
       "4      5\n",
       "      ..\n",
       "85    86\n",
       "86    87\n",
       "87    88\n",
       "88    89\n",
       "89    90\n",
       "Name: FlightNumber, Length: 90, dtype: int64"
      ]
     },
     "execution_count": 259,
     "metadata": {},
     "output_type": "execute_result"
    }
   ],
   "source": [
    "# if we want to see only one column of our data_set:\n",
    "df['FlightNumber']"
   ]
  },
  {
   "cell_type": "code",
   "execution_count": 260,
   "id": "610d3737",
   "metadata": {},
   "outputs": [
    {
     "data": {
      "text/html": [
       "<div>\n",
       "<style scoped>\n",
       "    .dataframe tbody tr th:only-of-type {\n",
       "        vertical-align: middle;\n",
       "    }\n",
       "\n",
       "    .dataframe tbody tr th {\n",
       "        vertical-align: top;\n",
       "    }\n",
       "\n",
       "    .dataframe thead th {\n",
       "        text-align: right;\n",
       "    }\n",
       "</style>\n",
       "<table border=\"1\" class=\"dataframe\">\n",
       "  <thead>\n",
       "    <tr style=\"text-align: right;\">\n",
       "      <th></th>\n",
       "      <th>FlightNumber</th>\n",
       "      <th>Date</th>\n",
       "      <th>BoosterVersion</th>\n",
       "      <th>PayloadMass</th>\n",
       "      <th>Orbit</th>\n",
       "      <th>LaunchSite</th>\n",
       "      <th>Outcome</th>\n",
       "      <th>Flights</th>\n",
       "      <th>GridFins</th>\n",
       "      <th>Reused</th>\n",
       "      <th>Legs</th>\n",
       "      <th>LandingPad</th>\n",
       "      <th>Block</th>\n",
       "      <th>ReusedCount</th>\n",
       "      <th>Serial</th>\n",
       "      <th>Longitude</th>\n",
       "      <th>Latitude</th>\n",
       "      <th>Class</th>\n",
       "    </tr>\n",
       "  </thead>\n",
       "  <tbody>\n",
       "    <tr>\n",
       "      <th>0</th>\n",
       "      <td>1</td>\n",
       "      <td>2010-06-04</td>\n",
       "      <td>Falcon 9</td>\n",
       "      <td>6104.959412</td>\n",
       "      <td>LEO</td>\n",
       "      <td>CCAFS SLC 40</td>\n",
       "      <td>None None</td>\n",
       "      <td>1</td>\n",
       "      <td>False</td>\n",
       "      <td>False</td>\n",
       "      <td>False</td>\n",
       "      <td>NaN</td>\n",
       "      <td>1.0</td>\n",
       "      <td>0</td>\n",
       "      <td>B0003</td>\n",
       "      <td>-80.577366</td>\n",
       "      <td>28.561857</td>\n",
       "      <td>0</td>\n",
       "    </tr>\n",
       "    <tr>\n",
       "      <th>1</th>\n",
       "      <td>2</td>\n",
       "      <td>2012-05-22</td>\n",
       "      <td>Falcon 9</td>\n",
       "      <td>525.000000</td>\n",
       "      <td>LEO</td>\n",
       "      <td>CCAFS SLC 40</td>\n",
       "      <td>None None</td>\n",
       "      <td>1</td>\n",
       "      <td>False</td>\n",
       "      <td>False</td>\n",
       "      <td>False</td>\n",
       "      <td>NaN</td>\n",
       "      <td>1.0</td>\n",
       "      <td>0</td>\n",
       "      <td>B0005</td>\n",
       "      <td>-80.577366</td>\n",
       "      <td>28.561857</td>\n",
       "      <td>0</td>\n",
       "    </tr>\n",
       "    <tr>\n",
       "      <th>3</th>\n",
       "      <td>4</td>\n",
       "      <td>2013-09-29</td>\n",
       "      <td>Falcon 9</td>\n",
       "      <td>500.000000</td>\n",
       "      <td>PO</td>\n",
       "      <td>VAFB SLC 4E</td>\n",
       "      <td>False Ocean</td>\n",
       "      <td>1</td>\n",
       "      <td>False</td>\n",
       "      <td>False</td>\n",
       "      <td>False</td>\n",
       "      <td>NaN</td>\n",
       "      <td>1.0</td>\n",
       "      <td>0</td>\n",
       "      <td>B1003</td>\n",
       "      <td>-120.610829</td>\n",
       "      <td>34.632093</td>\n",
       "      <td>0</td>\n",
       "    </tr>\n",
       "    <tr>\n",
       "      <th>4</th>\n",
       "      <td>5</td>\n",
       "      <td>2013-12-03</td>\n",
       "      <td>Falcon 9</td>\n",
       "      <td>3170.000000</td>\n",
       "      <td>GTO</td>\n",
       "      <td>CCAFS SLC 40</td>\n",
       "      <td>None None</td>\n",
       "      <td>1</td>\n",
       "      <td>False</td>\n",
       "      <td>False</td>\n",
       "      <td>False</td>\n",
       "      <td>NaN</td>\n",
       "      <td>1.0</td>\n",
       "      <td>0</td>\n",
       "      <td>B1004</td>\n",
       "      <td>-80.577366</td>\n",
       "      <td>28.561857</td>\n",
       "      <td>0</td>\n",
       "    </tr>\n",
       "    <tr>\n",
       "      <th>5</th>\n",
       "      <td>6</td>\n",
       "      <td>2014-01-06</td>\n",
       "      <td>Falcon 9</td>\n",
       "      <td>3325.000000</td>\n",
       "      <td>GTO</td>\n",
       "      <td>CCAFS SLC 40</td>\n",
       "      <td>None None</td>\n",
       "      <td>1</td>\n",
       "      <td>False</td>\n",
       "      <td>False</td>\n",
       "      <td>False</td>\n",
       "      <td>NaN</td>\n",
       "      <td>1.0</td>\n",
       "      <td>0</td>\n",
       "      <td>B1005</td>\n",
       "      <td>-80.577366</td>\n",
       "      <td>28.561857</td>\n",
       "      <td>0</td>\n",
       "    </tr>\n",
       "    <tr>\n",
       "      <th>...</th>\n",
       "      <td>...</td>\n",
       "      <td>...</td>\n",
       "      <td>...</td>\n",
       "      <td>...</td>\n",
       "      <td>...</td>\n",
       "      <td>...</td>\n",
       "      <td>...</td>\n",
       "      <td>...</td>\n",
       "      <td>...</td>\n",
       "      <td>...</td>\n",
       "      <td>...</td>\n",
       "      <td>...</td>\n",
       "      <td>...</td>\n",
       "      <td>...</td>\n",
       "      <td>...</td>\n",
       "      <td>...</td>\n",
       "      <td>...</td>\n",
       "      <td>...</td>\n",
       "    </tr>\n",
       "    <tr>\n",
       "      <th>85</th>\n",
       "      <td>86</td>\n",
       "      <td>2020-09-03</td>\n",
       "      <td>Falcon 9</td>\n",
       "      <td>15400.000000</td>\n",
       "      <td>VLEO</td>\n",
       "      <td>KSC LC 39A</td>\n",
       "      <td>True ASDS</td>\n",
       "      <td>2</td>\n",
       "      <td>True</td>\n",
       "      <td>True</td>\n",
       "      <td>True</td>\n",
       "      <td>5e9e3032383ecb6bb234e7ca</td>\n",
       "      <td>5.0</td>\n",
       "      <td>2</td>\n",
       "      <td>B1060</td>\n",
       "      <td>-80.603956</td>\n",
       "      <td>28.608058</td>\n",
       "      <td>1</td>\n",
       "    </tr>\n",
       "    <tr>\n",
       "      <th>86</th>\n",
       "      <td>87</td>\n",
       "      <td>2020-10-06</td>\n",
       "      <td>Falcon 9</td>\n",
       "      <td>15400.000000</td>\n",
       "      <td>VLEO</td>\n",
       "      <td>KSC LC 39A</td>\n",
       "      <td>True ASDS</td>\n",
       "      <td>3</td>\n",
       "      <td>True</td>\n",
       "      <td>True</td>\n",
       "      <td>True</td>\n",
       "      <td>5e9e3032383ecb6bb234e7ca</td>\n",
       "      <td>5.0</td>\n",
       "      <td>2</td>\n",
       "      <td>B1058</td>\n",
       "      <td>-80.603956</td>\n",
       "      <td>28.608058</td>\n",
       "      <td>1</td>\n",
       "    </tr>\n",
       "    <tr>\n",
       "      <th>87</th>\n",
       "      <td>88</td>\n",
       "      <td>2020-10-18</td>\n",
       "      <td>Falcon 9</td>\n",
       "      <td>15400.000000</td>\n",
       "      <td>VLEO</td>\n",
       "      <td>KSC LC 39A</td>\n",
       "      <td>True ASDS</td>\n",
       "      <td>6</td>\n",
       "      <td>True</td>\n",
       "      <td>True</td>\n",
       "      <td>True</td>\n",
       "      <td>5e9e3032383ecb6bb234e7ca</td>\n",
       "      <td>5.0</td>\n",
       "      <td>5</td>\n",
       "      <td>B1051</td>\n",
       "      <td>-80.603956</td>\n",
       "      <td>28.608058</td>\n",
       "      <td>1</td>\n",
       "    </tr>\n",
       "    <tr>\n",
       "      <th>88</th>\n",
       "      <td>89</td>\n",
       "      <td>2020-10-24</td>\n",
       "      <td>Falcon 9</td>\n",
       "      <td>15400.000000</td>\n",
       "      <td>VLEO</td>\n",
       "      <td>CCAFS SLC 40</td>\n",
       "      <td>True ASDS</td>\n",
       "      <td>3</td>\n",
       "      <td>True</td>\n",
       "      <td>True</td>\n",
       "      <td>True</td>\n",
       "      <td>5e9e3033383ecbb9e534e7cc</td>\n",
       "      <td>5.0</td>\n",
       "      <td>2</td>\n",
       "      <td>B1060</td>\n",
       "      <td>-80.577366</td>\n",
       "      <td>28.561857</td>\n",
       "      <td>1</td>\n",
       "    </tr>\n",
       "    <tr>\n",
       "      <th>89</th>\n",
       "      <td>90</td>\n",
       "      <td>2020-11-05</td>\n",
       "      <td>Falcon 9</td>\n",
       "      <td>3681.000000</td>\n",
       "      <td>MEO</td>\n",
       "      <td>CCAFS SLC 40</td>\n",
       "      <td>True ASDS</td>\n",
       "      <td>1</td>\n",
       "      <td>True</td>\n",
       "      <td>False</td>\n",
       "      <td>True</td>\n",
       "      <td>5e9e3032383ecb6bb234e7ca</td>\n",
       "      <td>5.0</td>\n",
       "      <td>0</td>\n",
       "      <td>B1062</td>\n",
       "      <td>-80.577366</td>\n",
       "      <td>28.561857</td>\n",
       "      <td>1</td>\n",
       "    </tr>\n",
       "  </tbody>\n",
       "</table>\n",
       "<p>89 rows × 18 columns</p>\n",
       "</div>"
      ],
      "text/plain": [
       "    FlightNumber        Date BoosterVersion   PayloadMass Orbit    LaunchSite  \\\n",
       "0              1  2010-06-04       Falcon 9   6104.959412   LEO  CCAFS SLC 40   \n",
       "1              2  2012-05-22       Falcon 9    525.000000   LEO  CCAFS SLC 40   \n",
       "3              4  2013-09-29       Falcon 9    500.000000    PO   VAFB SLC 4E   \n",
       "4              5  2013-12-03       Falcon 9   3170.000000   GTO  CCAFS SLC 40   \n",
       "5              6  2014-01-06       Falcon 9   3325.000000   GTO  CCAFS SLC 40   \n",
       "..           ...         ...            ...           ...   ...           ...   \n",
       "85            86  2020-09-03       Falcon 9  15400.000000  VLEO    KSC LC 39A   \n",
       "86            87  2020-10-06       Falcon 9  15400.000000  VLEO    KSC LC 39A   \n",
       "87            88  2020-10-18       Falcon 9  15400.000000  VLEO    KSC LC 39A   \n",
       "88            89  2020-10-24       Falcon 9  15400.000000  VLEO  CCAFS SLC 40   \n",
       "89            90  2020-11-05       Falcon 9   3681.000000   MEO  CCAFS SLC 40   \n",
       "\n",
       "        Outcome  Flights  GridFins  Reused   Legs                LandingPad  \\\n",
       "0     None None        1     False   False  False                       NaN   \n",
       "1     None None        1     False   False  False                       NaN   \n",
       "3   False Ocean        1     False   False  False                       NaN   \n",
       "4     None None        1     False   False  False                       NaN   \n",
       "5     None None        1     False   False  False                       NaN   \n",
       "..          ...      ...       ...     ...    ...                       ...   \n",
       "85    True ASDS        2      True    True   True  5e9e3032383ecb6bb234e7ca   \n",
       "86    True ASDS        3      True    True   True  5e9e3032383ecb6bb234e7ca   \n",
       "87    True ASDS        6      True    True   True  5e9e3032383ecb6bb234e7ca   \n",
       "88    True ASDS        3      True    True   True  5e9e3033383ecbb9e534e7cc   \n",
       "89    True ASDS        1      True   False   True  5e9e3032383ecb6bb234e7ca   \n",
       "\n",
       "    Block  ReusedCount Serial   Longitude   Latitude  Class  \n",
       "0     1.0            0  B0003  -80.577366  28.561857      0  \n",
       "1     1.0            0  B0005  -80.577366  28.561857      0  \n",
       "3     1.0            0  B1003 -120.610829  34.632093      0  \n",
       "4     1.0            0  B1004  -80.577366  28.561857      0  \n",
       "5     1.0            0  B1005  -80.577366  28.561857      0  \n",
       "..    ...          ...    ...         ...        ...    ...  \n",
       "85    5.0            2  B1060  -80.603956  28.608058      1  \n",
       "86    5.0            2  B1058  -80.603956  28.608058      1  \n",
       "87    5.0            5  B1051  -80.603956  28.608058      1  \n",
       "88    5.0            2  B1060  -80.577366  28.561857      1  \n",
       "89    5.0            0  B1062  -80.577366  28.561857      1  \n",
       "\n",
       "[89 rows x 18 columns]"
      ]
     },
     "execution_count": 260,
     "metadata": {},
     "output_type": "execute_result"
    }
   ],
   "source": [
    "#if a typical row deletion is required (for column deletion --> index=1)\n",
    "df.drop(2, axis=0)\n",
    "# as a result we can see the second row does not exist\n"
   ]
  },
  {
   "cell_type": "code",
   "execution_count": 261,
   "id": "f636f875",
   "metadata": {},
   "outputs": [
    {
     "data": {
      "text/html": [
       "<div>\n",
       "<style scoped>\n",
       "    .dataframe tbody tr th:only-of-type {\n",
       "        vertical-align: middle;\n",
       "    }\n",
       "\n",
       "    .dataframe tbody tr th {\n",
       "        vertical-align: top;\n",
       "    }\n",
       "\n",
       "    .dataframe thead th {\n",
       "        text-align: right;\n",
       "    }\n",
       "</style>\n",
       "<table border=\"1\" class=\"dataframe\">\n",
       "  <thead>\n",
       "    <tr style=\"text-align: right;\">\n",
       "      <th></th>\n",
       "      <th>FlightNumber</th>\n",
       "      <th>BoosterVersion</th>\n",
       "      <th>PayloadMass</th>\n",
       "      <th>Orbit</th>\n",
       "      <th>LaunchSite</th>\n",
       "      <th>Outcome</th>\n",
       "      <th>Flights</th>\n",
       "      <th>GridFins</th>\n",
       "      <th>Reused</th>\n",
       "      <th>Legs</th>\n",
       "      <th>LandingPad</th>\n",
       "      <th>Block</th>\n",
       "      <th>ReusedCount</th>\n",
       "      <th>Serial</th>\n",
       "      <th>Longitude</th>\n",
       "      <th>Latitude</th>\n",
       "      <th>Class</th>\n",
       "    </tr>\n",
       "  </thead>\n",
       "  <tbody>\n",
       "    <tr>\n",
       "      <th>0</th>\n",
       "      <td>1</td>\n",
       "      <td>Falcon 9</td>\n",
       "      <td>6104.959412</td>\n",
       "      <td>LEO</td>\n",
       "      <td>CCAFS SLC 40</td>\n",
       "      <td>None None</td>\n",
       "      <td>1</td>\n",
       "      <td>False</td>\n",
       "      <td>False</td>\n",
       "      <td>False</td>\n",
       "      <td>NaN</td>\n",
       "      <td>1.0</td>\n",
       "      <td>0</td>\n",
       "      <td>B0003</td>\n",
       "      <td>-80.577366</td>\n",
       "      <td>28.561857</td>\n",
       "      <td>0</td>\n",
       "    </tr>\n",
       "    <tr>\n",
       "      <th>1</th>\n",
       "      <td>2</td>\n",
       "      <td>Falcon 9</td>\n",
       "      <td>525.000000</td>\n",
       "      <td>LEO</td>\n",
       "      <td>CCAFS SLC 40</td>\n",
       "      <td>None None</td>\n",
       "      <td>1</td>\n",
       "      <td>False</td>\n",
       "      <td>False</td>\n",
       "      <td>False</td>\n",
       "      <td>NaN</td>\n",
       "      <td>1.0</td>\n",
       "      <td>0</td>\n",
       "      <td>B0005</td>\n",
       "      <td>-80.577366</td>\n",
       "      <td>28.561857</td>\n",
       "      <td>0</td>\n",
       "    </tr>\n",
       "    <tr>\n",
       "      <th>2</th>\n",
       "      <td>3</td>\n",
       "      <td>Falcon 9</td>\n",
       "      <td>677.000000</td>\n",
       "      <td>ISS</td>\n",
       "      <td>CCAFS SLC 40</td>\n",
       "      <td>None None</td>\n",
       "      <td>1</td>\n",
       "      <td>False</td>\n",
       "      <td>False</td>\n",
       "      <td>False</td>\n",
       "      <td>NaN</td>\n",
       "      <td>1.0</td>\n",
       "      <td>0</td>\n",
       "      <td>B0007</td>\n",
       "      <td>-80.577366</td>\n",
       "      <td>28.561857</td>\n",
       "      <td>0</td>\n",
       "    </tr>\n",
       "    <tr>\n",
       "      <th>3</th>\n",
       "      <td>4</td>\n",
       "      <td>Falcon 9</td>\n",
       "      <td>500.000000</td>\n",
       "      <td>PO</td>\n",
       "      <td>VAFB SLC 4E</td>\n",
       "      <td>False Ocean</td>\n",
       "      <td>1</td>\n",
       "      <td>False</td>\n",
       "      <td>False</td>\n",
       "      <td>False</td>\n",
       "      <td>NaN</td>\n",
       "      <td>1.0</td>\n",
       "      <td>0</td>\n",
       "      <td>B1003</td>\n",
       "      <td>-120.610829</td>\n",
       "      <td>34.632093</td>\n",
       "      <td>0</td>\n",
       "    </tr>\n",
       "    <tr>\n",
       "      <th>4</th>\n",
       "      <td>5</td>\n",
       "      <td>Falcon 9</td>\n",
       "      <td>3170.000000</td>\n",
       "      <td>GTO</td>\n",
       "      <td>CCAFS SLC 40</td>\n",
       "      <td>None None</td>\n",
       "      <td>1</td>\n",
       "      <td>False</td>\n",
       "      <td>False</td>\n",
       "      <td>False</td>\n",
       "      <td>NaN</td>\n",
       "      <td>1.0</td>\n",
       "      <td>0</td>\n",
       "      <td>B1004</td>\n",
       "      <td>-80.577366</td>\n",
       "      <td>28.561857</td>\n",
       "      <td>0</td>\n",
       "    </tr>\n",
       "    <tr>\n",
       "      <th>...</th>\n",
       "      <td>...</td>\n",
       "      <td>...</td>\n",
       "      <td>...</td>\n",
       "      <td>...</td>\n",
       "      <td>...</td>\n",
       "      <td>...</td>\n",
       "      <td>...</td>\n",
       "      <td>...</td>\n",
       "      <td>...</td>\n",
       "      <td>...</td>\n",
       "      <td>...</td>\n",
       "      <td>...</td>\n",
       "      <td>...</td>\n",
       "      <td>...</td>\n",
       "      <td>...</td>\n",
       "      <td>...</td>\n",
       "      <td>...</td>\n",
       "    </tr>\n",
       "    <tr>\n",
       "      <th>85</th>\n",
       "      <td>86</td>\n",
       "      <td>Falcon 9</td>\n",
       "      <td>15400.000000</td>\n",
       "      <td>VLEO</td>\n",
       "      <td>KSC LC 39A</td>\n",
       "      <td>True ASDS</td>\n",
       "      <td>2</td>\n",
       "      <td>True</td>\n",
       "      <td>True</td>\n",
       "      <td>True</td>\n",
       "      <td>5e9e3032383ecb6bb234e7ca</td>\n",
       "      <td>5.0</td>\n",
       "      <td>2</td>\n",
       "      <td>B1060</td>\n",
       "      <td>-80.603956</td>\n",
       "      <td>28.608058</td>\n",
       "      <td>1</td>\n",
       "    </tr>\n",
       "    <tr>\n",
       "      <th>86</th>\n",
       "      <td>87</td>\n",
       "      <td>Falcon 9</td>\n",
       "      <td>15400.000000</td>\n",
       "      <td>VLEO</td>\n",
       "      <td>KSC LC 39A</td>\n",
       "      <td>True ASDS</td>\n",
       "      <td>3</td>\n",
       "      <td>True</td>\n",
       "      <td>True</td>\n",
       "      <td>True</td>\n",
       "      <td>5e9e3032383ecb6bb234e7ca</td>\n",
       "      <td>5.0</td>\n",
       "      <td>2</td>\n",
       "      <td>B1058</td>\n",
       "      <td>-80.603956</td>\n",
       "      <td>28.608058</td>\n",
       "      <td>1</td>\n",
       "    </tr>\n",
       "    <tr>\n",
       "      <th>87</th>\n",
       "      <td>88</td>\n",
       "      <td>Falcon 9</td>\n",
       "      <td>15400.000000</td>\n",
       "      <td>VLEO</td>\n",
       "      <td>KSC LC 39A</td>\n",
       "      <td>True ASDS</td>\n",
       "      <td>6</td>\n",
       "      <td>True</td>\n",
       "      <td>True</td>\n",
       "      <td>True</td>\n",
       "      <td>5e9e3032383ecb6bb234e7ca</td>\n",
       "      <td>5.0</td>\n",
       "      <td>5</td>\n",
       "      <td>B1051</td>\n",
       "      <td>-80.603956</td>\n",
       "      <td>28.608058</td>\n",
       "      <td>1</td>\n",
       "    </tr>\n",
       "    <tr>\n",
       "      <th>88</th>\n",
       "      <td>89</td>\n",
       "      <td>Falcon 9</td>\n",
       "      <td>15400.000000</td>\n",
       "      <td>VLEO</td>\n",
       "      <td>CCAFS SLC 40</td>\n",
       "      <td>True ASDS</td>\n",
       "      <td>3</td>\n",
       "      <td>True</td>\n",
       "      <td>True</td>\n",
       "      <td>True</td>\n",
       "      <td>5e9e3033383ecbb9e534e7cc</td>\n",
       "      <td>5.0</td>\n",
       "      <td>2</td>\n",
       "      <td>B1060</td>\n",
       "      <td>-80.577366</td>\n",
       "      <td>28.561857</td>\n",
       "      <td>1</td>\n",
       "    </tr>\n",
       "    <tr>\n",
       "      <th>89</th>\n",
       "      <td>90</td>\n",
       "      <td>Falcon 9</td>\n",
       "      <td>3681.000000</td>\n",
       "      <td>MEO</td>\n",
       "      <td>CCAFS SLC 40</td>\n",
       "      <td>True ASDS</td>\n",
       "      <td>1</td>\n",
       "      <td>True</td>\n",
       "      <td>False</td>\n",
       "      <td>True</td>\n",
       "      <td>5e9e3032383ecb6bb234e7ca</td>\n",
       "      <td>5.0</td>\n",
       "      <td>0</td>\n",
       "      <td>B1062</td>\n",
       "      <td>-80.577366</td>\n",
       "      <td>28.561857</td>\n",
       "      <td>1</td>\n",
       "    </tr>\n",
       "  </tbody>\n",
       "</table>\n",
       "<p>90 rows × 17 columns</p>\n",
       "</div>"
      ],
      "text/plain": [
       "    FlightNumber BoosterVersion   PayloadMass Orbit    LaunchSite  \\\n",
       "0              1       Falcon 9   6104.959412   LEO  CCAFS SLC 40   \n",
       "1              2       Falcon 9    525.000000   LEO  CCAFS SLC 40   \n",
       "2              3       Falcon 9    677.000000   ISS  CCAFS SLC 40   \n",
       "3              4       Falcon 9    500.000000    PO   VAFB SLC 4E   \n",
       "4              5       Falcon 9   3170.000000   GTO  CCAFS SLC 40   \n",
       "..           ...            ...           ...   ...           ...   \n",
       "85            86       Falcon 9  15400.000000  VLEO    KSC LC 39A   \n",
       "86            87       Falcon 9  15400.000000  VLEO    KSC LC 39A   \n",
       "87            88       Falcon 9  15400.000000  VLEO    KSC LC 39A   \n",
       "88            89       Falcon 9  15400.000000  VLEO  CCAFS SLC 40   \n",
       "89            90       Falcon 9   3681.000000   MEO  CCAFS SLC 40   \n",
       "\n",
       "        Outcome  Flights  GridFins  Reused   Legs                LandingPad  \\\n",
       "0     None None        1     False   False  False                       NaN   \n",
       "1     None None        1     False   False  False                       NaN   \n",
       "2     None None        1     False   False  False                       NaN   \n",
       "3   False Ocean        1     False   False  False                       NaN   \n",
       "4     None None        1     False   False  False                       NaN   \n",
       "..          ...      ...       ...     ...    ...                       ...   \n",
       "85    True ASDS        2      True    True   True  5e9e3032383ecb6bb234e7ca   \n",
       "86    True ASDS        3      True    True   True  5e9e3032383ecb6bb234e7ca   \n",
       "87    True ASDS        6      True    True   True  5e9e3032383ecb6bb234e7ca   \n",
       "88    True ASDS        3      True    True   True  5e9e3033383ecbb9e534e7cc   \n",
       "89    True ASDS        1      True   False   True  5e9e3032383ecb6bb234e7ca   \n",
       "\n",
       "    Block  ReusedCount Serial   Longitude   Latitude  Class  \n",
       "0     1.0            0  B0003  -80.577366  28.561857      0  \n",
       "1     1.0            0  B0005  -80.577366  28.561857      0  \n",
       "2     1.0            0  B0007  -80.577366  28.561857      0  \n",
       "3     1.0            0  B1003 -120.610829  34.632093      0  \n",
       "4     1.0            0  B1004  -80.577366  28.561857      0  \n",
       "..    ...          ...    ...         ...        ...    ...  \n",
       "85    5.0            2  B1060  -80.603956  28.608058      1  \n",
       "86    5.0            2  B1058  -80.603956  28.608058      1  \n",
       "87    5.0            5  B1051  -80.603956  28.608058      1  \n",
       "88    5.0            2  B1060  -80.577366  28.561857      1  \n",
       "89    5.0            0  B1062  -80.577366  28.561857      1  \n",
       "\n",
       "[90 rows x 17 columns]"
      ]
     },
     "execution_count": 261,
     "metadata": {},
     "output_type": "execute_result"
    }
   ],
   "source": [
    "#df.drop(2, axis=1) -- > this will lead to an error\n",
    "df.drop('Date', axis=1)\n",
    "\n",
    "# note that it is a temporary drop\n",
    "# to make a permanent drop we should use ('Date', axis=1, replace=True)\n"
   ]
  },
  {
   "cell_type": "code",
   "execution_count": 262,
   "id": "9ccde943",
   "metadata": {},
   "outputs": [
    {
     "data": {
      "text/plain": [
       "Index(['FlightNumber', 'Date', 'BoosterVersion', 'PayloadMass', 'Orbit',\n",
       "       'LaunchSite', 'Outcome', 'Flights', 'GridFins', 'Reused', 'Legs',\n",
       "       'LandingPad', 'Block', 'ReusedCount', 'Serial', 'Longitude', 'Latitude',\n",
       "       'Class'],\n",
       "      dtype='object')"
      ]
     },
     "execution_count": 262,
     "metadata": {},
     "output_type": "execute_result"
    }
   ],
   "source": [
    "#to see the columns names\n",
    "df.columns"
   ]
  },
  {
   "cell_type": "code",
   "execution_count": 263,
   "id": "73dd42d0",
   "metadata": {},
   "outputs": [
    {
     "data": {
      "text/plain": [
       "(90, 18)"
      ]
     },
     "execution_count": 263,
     "metadata": {},
     "output_type": "execute_result"
    }
   ],
   "source": [
    "# another way of visualizing the shape of the data set is the (.shape) attribute.\n",
    "df.shape"
   ]
  },
  {
   "cell_type": "markdown",
   "id": "2ddbacf9",
   "metadata": {},
   "source": [
    "difference between method and attribute:\n",
    "* methods are here to do something like (info or drop ) and they have peranteces\n",
    "* attributes give us a data or information.like (shape or columns ) . they do not use () ."
   ]
  },
  {
   "cell_type": "markdown",
   "id": "7c5ac487",
   "metadata": {},
   "source": [
    "### add a row to a dataFrame\n",
    "* to add a data frame we need a dictionary. which the keys are the name of the columns and the values are the values"
   ]
  },
  {
   "cell_type": "code",
   "execution_count": 264,
   "id": "1db9bd30",
   "metadata": {},
   "outputs": [],
   "source": [
    "new_row= {'FlightNumber':11, 'Date':2, 'BoosterVersion':3, 'PayloadMass':4, 'Orbit':5,\n",
    "       'LaunchSite':6, 'Outcome':7, 'Flights':8, 'GridFins':9, 'Reused':10, 'Legs':11,\n",
    "       'LandingPad':12, 'Block':13, 'ReusedCount':14, 'Serial':15, 'Longitude':16, 'Latitude':17,\n",
    "       'Class':18}\n",
    "\n",
    "# df2=pd.apend(new_row , ignore_index=True) # we should replace (append) with ( concat)\n",
    "df2 = pd.DataFrame(new_row, index=[0])\n",
    "df2=pd.concat([df ,df2], ignore_index=True)\n"
   ]
  },
  {
   "cell_type": "code",
   "execution_count": 265,
   "id": "7c1f065e",
   "metadata": {},
   "outputs": [
    {
     "data": {
      "text/html": [
       "<div>\n",
       "<style scoped>\n",
       "    .dataframe tbody tr th:only-of-type {\n",
       "        vertical-align: middle;\n",
       "    }\n",
       "\n",
       "    .dataframe tbody tr th {\n",
       "        vertical-align: top;\n",
       "    }\n",
       "\n",
       "    .dataframe thead th {\n",
       "        text-align: right;\n",
       "    }\n",
       "</style>\n",
       "<table border=\"1\" class=\"dataframe\">\n",
       "  <thead>\n",
       "    <tr style=\"text-align: right;\">\n",
       "      <th></th>\n",
       "      <th>FlightNumber</th>\n",
       "      <th>Date</th>\n",
       "      <th>BoosterVersion</th>\n",
       "      <th>PayloadMass</th>\n",
       "      <th>Orbit</th>\n",
       "      <th>LaunchSite</th>\n",
       "      <th>Outcome</th>\n",
       "      <th>Flights</th>\n",
       "      <th>GridFins</th>\n",
       "      <th>Reused</th>\n",
       "      <th>Legs</th>\n",
       "      <th>LandingPad</th>\n",
       "      <th>Block</th>\n",
       "      <th>ReusedCount</th>\n",
       "      <th>Serial</th>\n",
       "      <th>Longitude</th>\n",
       "      <th>Latitude</th>\n",
       "      <th>Class</th>\n",
       "    </tr>\n",
       "  </thead>\n",
       "  <tbody>\n",
       "    <tr>\n",
       "      <th>86</th>\n",
       "      <td>87</td>\n",
       "      <td>2020-10-06</td>\n",
       "      <td>Falcon 9</td>\n",
       "      <td>15400.0</td>\n",
       "      <td>VLEO</td>\n",
       "      <td>KSC LC 39A</td>\n",
       "      <td>True ASDS</td>\n",
       "      <td>3</td>\n",
       "      <td>1</td>\n",
       "      <td>1</td>\n",
       "      <td>1</td>\n",
       "      <td>5e9e3032383ecb6bb234e7ca</td>\n",
       "      <td>5.0</td>\n",
       "      <td>2</td>\n",
       "      <td>B1058</td>\n",
       "      <td>-80.603956</td>\n",
       "      <td>28.608058</td>\n",
       "      <td>1</td>\n",
       "    </tr>\n",
       "    <tr>\n",
       "      <th>87</th>\n",
       "      <td>88</td>\n",
       "      <td>2020-10-18</td>\n",
       "      <td>Falcon 9</td>\n",
       "      <td>15400.0</td>\n",
       "      <td>VLEO</td>\n",
       "      <td>KSC LC 39A</td>\n",
       "      <td>True ASDS</td>\n",
       "      <td>6</td>\n",
       "      <td>1</td>\n",
       "      <td>1</td>\n",
       "      <td>1</td>\n",
       "      <td>5e9e3032383ecb6bb234e7ca</td>\n",
       "      <td>5.0</td>\n",
       "      <td>5</td>\n",
       "      <td>B1051</td>\n",
       "      <td>-80.603956</td>\n",
       "      <td>28.608058</td>\n",
       "      <td>1</td>\n",
       "    </tr>\n",
       "    <tr>\n",
       "      <th>88</th>\n",
       "      <td>89</td>\n",
       "      <td>2020-10-24</td>\n",
       "      <td>Falcon 9</td>\n",
       "      <td>15400.0</td>\n",
       "      <td>VLEO</td>\n",
       "      <td>CCAFS SLC 40</td>\n",
       "      <td>True ASDS</td>\n",
       "      <td>3</td>\n",
       "      <td>1</td>\n",
       "      <td>1</td>\n",
       "      <td>1</td>\n",
       "      <td>5e9e3033383ecbb9e534e7cc</td>\n",
       "      <td>5.0</td>\n",
       "      <td>2</td>\n",
       "      <td>B1060</td>\n",
       "      <td>-80.577366</td>\n",
       "      <td>28.561857</td>\n",
       "      <td>1</td>\n",
       "    </tr>\n",
       "    <tr>\n",
       "      <th>89</th>\n",
       "      <td>90</td>\n",
       "      <td>2020-11-05</td>\n",
       "      <td>Falcon 9</td>\n",
       "      <td>3681.0</td>\n",
       "      <td>MEO</td>\n",
       "      <td>CCAFS SLC 40</td>\n",
       "      <td>True ASDS</td>\n",
       "      <td>1</td>\n",
       "      <td>1</td>\n",
       "      <td>0</td>\n",
       "      <td>1</td>\n",
       "      <td>5e9e3032383ecb6bb234e7ca</td>\n",
       "      <td>5.0</td>\n",
       "      <td>0</td>\n",
       "      <td>B1062</td>\n",
       "      <td>-80.577366</td>\n",
       "      <td>28.561857</td>\n",
       "      <td>1</td>\n",
       "    </tr>\n",
       "    <tr>\n",
       "      <th>90</th>\n",
       "      <td>11</td>\n",
       "      <td>2</td>\n",
       "      <td>3</td>\n",
       "      <td>4.0</td>\n",
       "      <td>5</td>\n",
       "      <td>6</td>\n",
       "      <td>7</td>\n",
       "      <td>8</td>\n",
       "      <td>9</td>\n",
       "      <td>10</td>\n",
       "      <td>11</td>\n",
       "      <td>12</td>\n",
       "      <td>13.0</td>\n",
       "      <td>14</td>\n",
       "      <td>15</td>\n",
       "      <td>16.000000</td>\n",
       "      <td>17.000000</td>\n",
       "      <td>18</td>\n",
       "    </tr>\n",
       "  </tbody>\n",
       "</table>\n",
       "</div>"
      ],
      "text/plain": [
       "    FlightNumber        Date BoosterVersion  PayloadMass Orbit    LaunchSite  \\\n",
       "86            87  2020-10-06       Falcon 9      15400.0  VLEO    KSC LC 39A   \n",
       "87            88  2020-10-18       Falcon 9      15400.0  VLEO    KSC LC 39A   \n",
       "88            89  2020-10-24       Falcon 9      15400.0  VLEO  CCAFS SLC 40   \n",
       "89            90  2020-11-05       Falcon 9       3681.0   MEO  CCAFS SLC 40   \n",
       "90            11           2              3          4.0     5             6   \n",
       "\n",
       "      Outcome  Flights  GridFins  Reused  Legs                LandingPad  \\\n",
       "86  True ASDS        3         1       1     1  5e9e3032383ecb6bb234e7ca   \n",
       "87  True ASDS        6         1       1     1  5e9e3032383ecb6bb234e7ca   \n",
       "88  True ASDS        3         1       1     1  5e9e3033383ecbb9e534e7cc   \n",
       "89  True ASDS        1         1       0     1  5e9e3032383ecb6bb234e7ca   \n",
       "90          7        8         9      10    11                        12   \n",
       "\n",
       "    Block  ReusedCount Serial  Longitude   Latitude  Class  \n",
       "86    5.0            2  B1058 -80.603956  28.608058      1  \n",
       "87    5.0            5  B1051 -80.603956  28.608058      1  \n",
       "88    5.0            2  B1060 -80.577366  28.561857      1  \n",
       "89    5.0            0  B1062 -80.577366  28.561857      1  \n",
       "90   13.0           14     15  16.000000  17.000000     18  "
      ]
     },
     "execution_count": 265,
     "metadata": {},
     "output_type": "execute_result"
    }
   ],
   "source": [
    "# to see the results\n",
    "df2.tail()"
   ]
  },
  {
   "cell_type": "code",
   "execution_count": null,
   "id": "409f451b",
   "metadata": {},
   "outputs": [],
   "source": []
  },
  {
   "cell_type": "code",
   "execution_count": 266,
   "id": "4b0a1866",
   "metadata": {},
   "outputs": [
    {
     "data": {
      "text/plain": [
       "0     Falcon 9\n",
       "1     Falcon 9\n",
       "2     Falcon 9\n",
       "3     Falcon 9\n",
       "4     Falcon 9\n",
       "        ...   \n",
       "85    Falcon 9\n",
       "86    Falcon 9\n",
       "87    Falcon 9\n",
       "88    Falcon 9\n",
       "89    Falcon 9\n",
       "Name: BoosterVersion, Length: 90, dtype: object"
      ]
     },
     "execution_count": 266,
     "metadata": {},
     "output_type": "execute_result"
    }
   ],
   "source": [
    "# looking only at column of BoosterVersion\n",
    "df['BoosterVersion']"
   ]
  },
  {
   "cell_type": "code",
   "execution_count": 267,
   "id": "be48d43f",
   "metadata": {},
   "outputs": [
    {
     "data": {
      "text/plain": [
       "{'Falcon 9'}"
      ]
     },
     "execution_count": 267,
     "metadata": {},
     "output_type": "execute_result"
    }
   ],
   "source": [
    "# but it is not enough. we want to see the diversity of the BoosterVersions.\n",
    "# so we use (set) to detect the diversity\n",
    "set(df['BoosterVersion'])"
   ]
  },
  {
   "cell_type": "code",
   "execution_count": 268,
   "id": "798181c9",
   "metadata": {},
   "outputs": [],
   "source": [
    "# as a result we observe that the (Falcon 9) is the only BoosterVersion exist in the data set!!"
   ]
  },
  {
   "cell_type": "code",
   "execution_count": 269,
   "id": "70effeaf",
   "metadata": {},
   "outputs": [
    {
     "data": {
      "text/plain": [
       "350.0"
      ]
     },
     "execution_count": 269,
     "metadata": {},
     "output_type": "execute_result"
    }
   ],
   "source": [
    "# next column is the (PayloadMass). which is the mass the rocket carries with itself.\n",
    "#so let see the min and the max of the PayloadMass.\n",
    "\n",
    "min(df['PayloadMass']) # also df['PayloadMass'].min"
   ]
  },
  {
   "cell_type": "code",
   "execution_count": 270,
   "id": "c9d0740c",
   "metadata": {},
   "outputs": [
    {
     "data": {
      "text/plain": [
       "15600.0"
      ]
     },
     "execution_count": 270,
     "metadata": {},
     "output_type": "execute_result"
    }
   ],
   "source": [
    "max(df['PayloadMass'])"
   ]
  },
  {
   "cell_type": "code",
   "execution_count": 271,
   "id": "a01dbeab",
   "metadata": {},
   "outputs": [
    {
     "data": {
      "text/plain": [
       "6104.959411764707"
      ]
     },
     "execution_count": 271,
     "metadata": {},
     "output_type": "execute_result"
    }
   ],
   "source": [
    "#to see the average of the PayloadMass:\n",
    "\n",
    "df['PayloadMass'].mean()"
   ]
  },
  {
   "cell_type": "code",
   "execution_count": 272,
   "id": "7bbf146f",
   "metadata": {},
   "outputs": [
    {
     "data": {
      "text/plain": [
       "4694.671719712728"
      ]
     },
     "execution_count": 272,
     "metadata": {},
     "output_type": "execute_result"
    }
   ],
   "source": [
    "# and to see standardDeviation:\n",
    "\n",
    "df['PayloadMass'].std()"
   ]
  },
  {
   "cell_type": "markdown",
   "id": "585b14b7",
   "metadata": {},
   "source": [
    "####  why std is a good representative of the data scaterring?\n",
    "* suppose two number( 5 and 25 ) \n",
    "the average is (30/2= 15)\n",
    "\n",
    "* also for numbers (14 and 16 ) the average is (30/2=15)\n",
    "but the reality is that the two number (5 ,25 ) are not the same as ( 14 , 16 ) in terms of deviation (scattering).\n",
    "\n",
    "##### thats why its better to use std instead of average to measure the diversity (scattering) of the numeric data.\n",
    "* the std for (5 , 25) is 10. \n",
    "* the std for (14 ,16) is 1\n",
    "\n",
    "\n"
   ]
  },
  {
   "cell_type": "code",
   "execution_count": 273,
   "id": "a01e2623",
   "metadata": {},
   "outputs": [
    {
     "data": {
      "text/plain": [
       "count       90.000000\n",
       "mean      6104.959412\n",
       "std       4694.671720\n",
       "min        350.000000\n",
       "25%       2510.750000\n",
       "50%       4701.500000\n",
       "75%       8912.750000\n",
       "max      15600.000000\n",
       "Name: PayloadMass, dtype: float64"
      ]
     },
     "execution_count": 273,
     "metadata": {},
     "output_type": "execute_result"
    }
   ],
   "source": [
    "# the method (describe) will do alot for us. (min , max, std , ...)\n",
    "# also we know that this method will act on numerical data \n",
    "\n",
    "df['PayloadMass'].describe()"
   ]
  },
  {
   "cell_type": "code",
   "execution_count": 274,
   "id": "8a46b63d",
   "metadata": {},
   "outputs": [
    {
     "data": {
      "text/plain": [
       "<Axes: >"
      ]
     },
     "execution_count": 274,
     "metadata": {},
     "output_type": "execute_result"
    },
    {
     "data": {
      "image/png": "[encoded data removed]",
      "text/plain": [
       "<Figure size 640x480 with 1 Axes>"
      ]
     },
     "metadata": {},
     "output_type": "display_data"
    }
   ],
   "source": [
    "# to see the histogram of the payloadMass:\n",
    "df['PayloadMass'].hist()"
   ]
  },
  {
   "cell_type": "code",
   "execution_count": 275,
   "id": "24e90d9b",
   "metadata": {},
   "outputs": [
    {
     "data": {
      "text/plain": [
       "<Axes: >"
      ]
     },
     "execution_count": 275,
     "metadata": {},
     "output_type": "execute_result"
    },
    {
     "data": {
      "image/png": "[encoded data removed]",
      "text/plain": [
       "<Figure size 640x480 with 1 Axes>"
      ]
     },
     "metadata": {},
     "output_type": "display_data"
    }
   ],
   "source": [
    "# or simply plot the the whole data\n",
    "df['PayloadMass'].plot()"
   ]
  },
  {
   "cell_type": "code",
   "execution_count": 276,
   "id": "dbbee8a8",
   "metadata": {},
   "outputs": [
    {
     "data": {
      "text/plain": [
       "{'ES-L1', 'GEO', 'GTO', 'HEO', 'ISS', 'LEO', 'MEO', 'PO', 'SO', 'SSO', 'VLEO'}"
      ]
     },
     "execution_count": 276,
     "metadata": {},
     "output_type": "execute_result"
    }
   ],
   "source": [
    "#next column is (Orbit)\n",
    "\n",
    "# to find the unique values using (set) method\n",
    "\n",
    "set(df['Orbit'])"
   ]
  },
  {
   "cell_type": "code",
   "execution_count": 277,
   "id": "14118863",
   "metadata": {},
   "outputs": [
    {
     "data": {
      "text/plain": [
       "array(['LEO', 'ISS', 'PO', 'GTO', 'ES-L1', 'SSO', 'HEO', 'MEO', 'VLEO',\n",
       "       'SO', 'GEO'], dtype=object)"
      ]
     },
     "execution_count": 277,
     "metadata": {},
     "output_type": "execute_result"
    }
   ],
   "source": [
    "# to find the unique values using (Unique) method\n",
    "df['Orbit'].unique()"
   ]
  },
  {
   "cell_type": "code",
   "execution_count": 278,
   "id": "81fa2c6f",
   "metadata": {},
   "outputs": [
    {
     "data": {
      "text/plain": [
       "Orbit\n",
       "GTO      27\n",
       "ISS      21\n",
       "VLEO     14\n",
       "PO        9\n",
       "LEO       7\n",
       "SSO       5\n",
       "MEO       3\n",
       "ES-L1     1\n",
       "HEO       1\n",
       "SO        1\n",
       "GEO       1\n",
       "Name: count, dtype: int64"
      ]
     },
     "execution_count": 278,
     "metadata": {},
     "output_type": "execute_result"
    }
   ],
   "source": [
    "# count the values in each category using (.value_counts) method\n",
    "\n",
    "df['Orbit'].value_counts()"
   ]
  },
  {
   "cell_type": "code",
   "execution_count": 279,
   "id": "a8fdf79c",
   "metadata": {},
   "outputs": [
    {
     "data": {
      "text/plain": [
       "<Axes: >"
      ]
     },
     "execution_count": 279,
     "metadata": {},
     "output_type": "execute_result"
    },
    {
     "data": {
      "image/png": "[encoded data removed]",
      "text/plain": [
       "<Figure size 640x480 with 1 Axes>"
      ]
     },
     "metadata": {},
     "output_type": "display_data"
    }
   ],
   "source": [
    "# visualize using hist method:\n",
    "\n",
    "df['Orbit'].hist()"
   ]
  },
  {
   "cell_type": "markdown",
   "id": "ef5bfee0",
   "metadata": {},
   "source": [
    "#### now lets make a dataFrame of successfull lands (class =1) "
   ]
  },
  {
   "cell_type": "code",
   "execution_count": 280,
   "id": "59947b1c",
   "metadata": {},
   "outputs": [],
   "source": [
    "# we define the Success_df as the dataFrame in which values of the column class equals to 1.\n",
    "# at the other hand the Fail_df is the  DataFrame in which the values of the column class is 0.\n",
    "\n",
    "Success_df=df[df['Class']==1]\n",
    "Fail_df=df[df['Class']==0]"
   ]
  },
  {
   "cell_type": "code",
   "execution_count": 281,
   "id": "8ddcdc2c",
   "metadata": {},
   "outputs": [
    {
     "name": "stdout",
     "output_type": "stream",
     "text": [
      "<class 'pandas.core.frame.DataFrame'>\n",
      "Index: 60 entries, 6 to 89\n",
      "Data columns (total 18 columns):\n",
      " #   Column          Non-Null Count  Dtype  \n",
      "---  ------          --------------  -----  \n",
      " 0   FlightNumber    60 non-null     int64  \n",
      " 1   Date            60 non-null     object \n",
      " 2   BoosterVersion  60 non-null     object \n",
      " 3   PayloadMass     60 non-null     float64\n",
      " 4   Orbit           60 non-null     object \n",
      " 5   LaunchSite      60 non-null     object \n",
      " 6   Outcome         60 non-null     object \n",
      " 7   Flights         60 non-null     int64  \n",
      " 8   GridFins        60 non-null     bool   \n",
      " 9   Reused          60 non-null     bool   \n",
      " 10  Legs            60 non-null     bool   \n",
      " 11  LandingPad      55 non-null     object \n",
      " 12  Block           60 non-null     float64\n",
      " 13  ReusedCount     60 non-null     int64  \n",
      " 14  Serial          60 non-null     object \n",
      " 15  Longitude       60 non-null     float64\n",
      " 16  Latitude        60 non-null     float64\n",
      " 17  Class           60 non-null     int64  \n",
      "dtypes: bool(3), float64(4), int64(4), object(7)\n",
      "memory usage: 7.7+ KB\n"
     ]
    }
   ],
   "source": [
    "# lets check the new dataFrames with (info) method\n",
    "Success_df.info()"
   ]
  },
  {
   "cell_type": "code",
   "execution_count": 282,
   "id": "5006635b",
   "metadata": {},
   "outputs": [
    {
     "data": {
      "text/plain": [
       "0    0\n",
       "1    0\n",
       "2    0\n",
       "3    0\n",
       "4    0\n",
       "Name: Class, dtype: int64"
      ]
     },
     "execution_count": 282,
     "metadata": {},
     "output_type": "execute_result"
    }
   ],
   "source": [
    "Fail_df['Class'].head()"
   ]
  },
  {
   "cell_type": "code",
   "execution_count": 283,
   "id": "4fa603cb",
   "metadata": {},
   "outputs": [
    {
     "data": {
      "text/plain": [
       "Index(['FlightNumber', 'Date', 'BoosterVersion', 'PayloadMass', 'Orbit',\n",
       "       'LaunchSite', 'Outcome', 'Flights', 'GridFins', 'Reused', 'Legs',\n",
       "       'LandingPad', 'Block', 'ReusedCount', 'Serial', 'Longitude', 'Latitude',\n",
       "       'Class'],\n",
       "      dtype='object')"
      ]
     },
     "execution_count": 283,
     "metadata": {},
     "output_type": "execute_result"
    }
   ],
   "source": [
    "df.columns\n"
   ]
  },
  {
   "cell_type": "code",
   "execution_count": 284,
   "id": "f3d2c170",
   "metadata": {},
   "outputs": [
    {
     "data": {
      "text/plain": [
       "18"
      ]
     },
     "execution_count": 284,
     "metadata": {},
     "output_type": "execute_result"
    }
   ],
   "source": [
    "len(df.columns)"
   ]
  },
  {
   "cell_type": "code",
   "execution_count": 285,
   "id": "5f924eb8",
   "metadata": {},
   "outputs": [
    {
     "name": "stdout",
     "output_type": "stream",
     "text": [
      "LaunchSite: {'VAFB SLC 4E', 'KSC LC 39A', 'CCAFS SLC 40'}\n",
      "Outcome: {'True ASDS', 'True Ocean', 'None ASDS', 'True RTLS', 'False ASDS', 'None None', 'False Ocean', 'False RTLS'}\n",
      "Flights: {1, 2, 3, 4, 5, 6}\n"
     ]
    }
   ],
   "source": [
    "# we can do same for the rest of the columns. \n",
    "#but here we take a quick look to the other columns:\n",
    "\n",
    "print('LaunchSite:',set(df['LaunchSite']))\n",
    "print('Outcome:',set(df['Outcome']))\n",
    "print('Flights:',set(df['Flights']))\n"
   ]
  },
  {
   "cell_type": "code",
   "execution_count": 286,
   "id": "cd55831b",
   "metadata": {},
   "outputs": [
    {
     "name": "stdout",
     "output_type": "stream",
     "text": [
      "FlightNumber :\n",
      "{1, 2, 3, 4, 5, 6, 7, 8, 9, 10, 11, 12, 13, 14, 15, 16, 17, 18, 19, 20, 21, 22, 23, 24, 25, 26, 27, 28, 29, 30, 31, 32, 33, 34, 35, 36, 37, 38, 39, 40, 41, 42, 43, 44, 45, 46, 47, 48, 49, 50, 51, 52, 53, 54, 55, 56, 57, 58, 59, 60, 61, 62, 63, 64, 65, 66, 67, 68, 69, 70, 71, 72, 73, 74, 75, 76, 77, 78, 79, 80, 81, 82, 83, 84, 85, 86, 87, 88, 89, 90}\n",
      "---------\n",
      "Date :\n",
      "{'2019-08-06', '2013-09-29', '2018-01-31', '2020-05-30', '2020-08-18', '2019-05-04', '2018-03-30', '2015-12-22', '2018-09-10', '2017-08-24', '2020-06-30', '2020-01-19', '2018-05-11', '2019-12-05', '2015-04-27', '2015-02-11', '2018-08-07', '2018-04-18', '2012-05-22', '2020-03-18', '2020-10-24', '2014-09-07', '2020-10-18', '2017-10-11', '2017-02-19', '2018-07-25', '2014-09-21', '2020-03-07', '2016-05-27', '2017-07-05', '2017-12-15', '2014-04-18', '2018-11-15', '2018-03-06', '2017-09-07', '2017-01-14', '2020-06-13', '2013-03-01', '2019-05-24', '2015-06-28', '2020-09-03', '2017-05-15', '2017-10-30', '2014-07-14', '2018-07-22', '2020-01-07', '2017-12-23', '2019-12-17', '2020-04-22', '2020-08-30', '2020-07-20', '2018-04-02', '2020-06-04', '2020-01-29', '2019-11-11', '2018-12-23', '2018-12-03', '2015-01-10', '2016-07-18', '2017-03-16', '2014-01-06', '2016-03-04', '2015-04-14', '2020-11-05', '2016-09-01', '2016-05-06', '2018-12-05', '2016-04-08', '2019-01-11', '2017-06-23', '2018-01-08', '2019-06-12', '2018-06-04', '2017-05-01', '2017-10-09', '2020-10-06', '2020-02-17', '2013-12-03', '2016-08-14', '2017-06-25', '2010-06-04', '2014-08-05', '2018-06-29', '2018-10-08', '2017-08-14', '2019-03-02', '2017-03-30', '2017-06-03', '2016-01-17', '2019-07-25'}\n",
      "---------\n",
      "BoosterVersion :\n",
      "{'Falcon 9'}\n",
      "---------\n",
      "PayloadMass :\n",
      "{9600.0, 4230.0, 5383.85, 5000.0, 525.0, 2573.0, 6800.0, 1425.0, 2708.0, 7060.0, 5271.0, 3100.0, 2205.0, 4000.0, 1316.0, 677.0, 3750.0, 7076.0, 2216.0, 553.0, 5800.0, 15400.0, 3880.0, 2477.0, 4400.0, 2482.0, 2227.7, 5300.0, 13620.0, 6070.0, 4535.0, 3000.0, 1977.0, 570.0, 2490.0, 9525.0, 3136.0, 1600.0, 2760.0, 4428.0, 6092.0, 5200.0, 2257.0, 3669.0, 6104.959411764706, 4696.0, 2395.0, 475.0, 2910.0, 350.0, 5600.0, 3681.0, 3170.0, 4707.0, 12259.0, 6500.0, 4600.0, 6761.0, 1898.0, 2410.0, 2800.0, 15600.0, 2034.0, 500.0, 3700.0, 2296.0, 5500.0, 3325.0, 4990.0}\n",
      "---------\n",
      "Orbit :\n",
      "{'PO', 'ES-L1', 'GTO', 'SO', 'VLEO', 'MEO', 'GEO', 'ISS', 'HEO', 'LEO', 'SSO'}\n",
      "---------\n",
      "LaunchSite :\n",
      "{'VAFB SLC 4E', 'KSC LC 39A', 'CCAFS SLC 40'}\n",
      "---------\n",
      "Outcome :\n",
      "{'True ASDS', 'True Ocean', 'None ASDS', 'True RTLS', 'False ASDS', 'None None', 'False Ocean', 'False RTLS'}\n",
      "---------\n",
      "Flights :\n",
      "{1, 2, 3, 4, 5, 6}\n",
      "---------\n",
      "GridFins :\n",
      "{False, True}\n",
      "---------\n",
      "Reused :\n",
      "{False, True}\n",
      "---------\n",
      "Legs :\n",
      "{False, True}\n",
      "---------\n",
      "LandingPad :\n",
      "{nan, '5e9e3032383ecb6bb234e7ca', '5e9e3032383ecb761634e7cb', '5e9e3032383ecb267a34e7c7', '5e9e3033383ecbb9e534e7cc', '5e9e3032383ecb554034e7c9'}\n",
      "---------\n",
      "Block :\n",
      "{1.0, 2.0, 3.0, 4.0, 5.0}\n",
      "---------\n",
      "ReusedCount :\n",
      "{0, 1, 2, 3, 4, 5}\n",
      "---------\n",
      "Serial :\n",
      "{'B1020', 'B0005', 'B1019', 'B1036', 'B1021', 'B1047', 'B1054', 'B1029', 'B1006', 'B1030', 'B1017', 'B1037', 'B1031', 'B1015', 'B1042', 'B1043', 'B1056', 'B1059', 'B1040', 'B1012', 'B1051', 'B1032', 'B1044', 'B1013', 'B1046', 'B1003', 'B1038', 'B1018', 'B1008', 'B1039', 'B0007', 'B1049', 'B1058', 'B1016', 'B1023', 'B1025', 'B1035', 'B0003', 'B1004', 'B1041', 'B1060', 'B1062', 'B1050', 'B1010', 'B1048', 'B1045', 'B1028', 'B1011', 'B1022', 'B1007', 'B1034', 'B1005', 'B1026'}\n",
      "---------\n",
      "Longitude :\n",
      "{-80.577366, -120.610829, -80.6039558}\n",
      "---------\n",
      "Latitude :\n",
      "{34.632093, 28.5618571, 28.6080585}\n",
      "---------\n",
      "Class :\n",
      "{0, 1}\n",
      "---------\n"
     ]
    }
   ],
   "source": [
    "# we can use a loop:\n",
    "for i in range (len(df.columns)):\n",
    "    \n",
    "    print(df.columns[i] ,\":\")\n",
    "    print(set(df[df.columns[i]]))\n",
    "    print('---------')\n",
    "\n",
    "    "
   ]
  },
  {
   "cell_type": "code",
   "execution_count": 287,
   "id": "78a54bb2",
   "metadata": {},
   "outputs": [
    {
     "data": {
      "text/plain": [
       "Outcome\n",
       "True ASDS      41\n",
       "None None      19\n",
       "True RTLS      14\n",
       "False ASDS      6\n",
       "True Ocean      5\n",
       "False Ocean     2\n",
       "None ASDS       2\n",
       "False RTLS      1\n",
       "Name: count, dtype: int64"
      ]
     },
     "execution_count": 287,
     "metadata": {},
     "output_type": "execute_result"
    }
   ],
   "source": [
    "# to focus on the column (Outcome):\n",
    "\n",
    "df['Outcome'].value_counts()"
   ]
  },
  {
   "cell_type": "code",
   "execution_count": 288,
   "id": "e642fef1",
   "metadata": {},
   "outputs": [
    {
     "name": "stdout",
     "output_type": "stream",
     "text": [
      "Success:\n",
      "  Outcome\n",
      "True ASDS     41\n",
      "True RTLS     14\n",
      "True Ocean     5\n",
      "Name: count, dtype: int64\n",
      "-----------\n",
      "Fail:\n",
      "  Outcome\n",
      "None None      19\n",
      "False ASDS      6\n",
      "False Ocean     2\n",
      "None ASDS       2\n",
      "False RTLS      1\n",
      "Name: count, dtype: int64\n"
     ]
    }
   ],
   "source": [
    "# let see the same focus on the Success_df and the Fail_df:\n",
    "print('Success:\\n ',Success_df['Outcome'].value_counts())\n",
    "print('-----------')\n",
    "print('Fail:\\n ',Fail_df['Outcome'].value_counts())"
   ]
  },
  {
   "cell_type": "code",
   "execution_count": 289,
   "id": "c07961bc",
   "metadata": {},
   "outputs": [
    {
     "name": "stdout",
     "output_type": "stream",
     "text": [
      "------------LandingPad:\n",
      " LandingPad\n",
      "5e9e3032383ecb6bb234e7ca    35\n",
      "5e9e3032383ecb267a34e7c7    13\n",
      "5e9e3033383ecbb9e534e7cc    12\n",
      "5e9e3032383ecb761634e7cb     2\n",
      "5e9e3032383ecb554034e7c9     2\n",
      "Name: count, dtype: int64\n",
      "------------Block:\n",
      " Block\n",
      "5.0    39\n",
      "1.0    19\n",
      "3.0    15\n",
      "4.0    11\n",
      "2.0     6\n",
      "Name: count, dtype: int64\n",
      "------------ReusedCount:\n",
      " ReusedCount\n",
      "0    30\n",
      "1    24\n",
      "3    12\n",
      "5    11\n",
      "2     9\n",
      "4     4\n",
      "Name: count, dtype: int64\n"
     ]
    }
   ],
   "source": [
    "# focus on  categorical values: (LandingPad) , (Block), (ReusedCount)\n",
    "print('------------LandingPad:\\n' , df['LandingPad'].value_counts())\n",
    "print('------------Block:\\n' , df['Block'].value_counts())\n",
    "print('------------ReusedCount:\\n' , df['ReusedCount'].value_counts())\n"
   ]
  },
  {
   "cell_type": "code",
   "execution_count": 290,
   "id": "d6f03d39",
   "metadata": {},
   "outputs": [
    {
     "name": "stdout",
     "output_type": "stream",
     "text": [
      "------------GridFins:\n",
      " GridFins\n",
      "True     70\n",
      "False    20\n",
      "Name: count, dtype: int64\n",
      "------------Reused:\n",
      " Reused\n",
      "False    53\n",
      "True     37\n",
      "Name: count, dtype: int64\n",
      "------------Legs:\n",
      " Legs\n",
      "True     71\n",
      "False    19\n",
      "Name: count, dtype: int64\n"
     ]
    }
   ],
   "source": [
    "# focus on  boolean values: (GridFins) , (Reused), (Legs)\n",
    "print('------------GridFins:\\n' , df['GridFins'].value_counts())\n",
    "print('------------Reused:\\n' , df['Reused'].value_counts())\n",
    "print('------------Legs:\\n' , df['Legs'].value_counts())\n"
   ]
  },
  {
   "cell_type": "code",
   "execution_count": 291,
   "id": "b4d7233f",
   "metadata": {},
   "outputs": [
    {
     "name": "stdout",
     "output_type": "stream",
     "text": [
      "------------Longitude:\n",
      " Longitude\n",
      "-80.577366     55\n",
      "-80.603956     22\n",
      "-120.610829    13\n",
      "Name: count, dtype: int64\n",
      "------------Latitude:\n",
      " Latitude\n",
      "28.561857    55\n",
      "28.608058    22\n",
      "34.632093    13\n",
      "Name: count, dtype: int64\n",
      "------------LaunchSite:\n",
      " LaunchSite\n",
      "CCAFS SLC 40    55\n",
      "KSC LC 39A      22\n",
      "VAFB SLC 4E     13\n",
      "Name: count, dtype: int64\n"
     ]
    }
   ],
   "source": [
    "# focus on  boolean values: (Longitude) , (Latitude), (LaunchSite)\n",
    "print('------------Longitude:\\n' , df['Longitude'].value_counts())\n",
    "print('------------Latitude:\\n' , df['Latitude'].value_counts())\n",
    "print('------------LaunchSite:\\n' , df['LaunchSite'].value_counts())"
   ]
  },
  {
   "cell_type": "code",
   "execution_count": 292,
   "id": "a8eb7bc9",
   "metadata": {},
   "outputs": [
    {
     "name": "stdout",
     "output_type": "stream",
     "text": [
      "<class 'pandas.core.frame.DataFrame'>\n",
      "RangeIndex: 90 entries, 0 to 89\n",
      "Data columns (total 14 columns):\n",
      " #   Column        Non-Null Count  Dtype  \n",
      "---  ------        --------------  -----  \n",
      " 0   FlightNumber  90 non-null     int64  \n",
      " 1   Date          90 non-null     object \n",
      " 2   PayloadMass   90 non-null     float64\n",
      " 3   Orbit         90 non-null     object \n",
      " 4   LaunchSite    90 non-null     object \n",
      " 5   Outcome       90 non-null     object \n",
      " 6   Flights       90 non-null     int64  \n",
      " 7   GridFins      90 non-null     bool   \n",
      " 8   Reused        90 non-null     bool   \n",
      " 9   Legs          90 non-null     bool   \n",
      " 10  LandingPad    64 non-null     object \n",
      " 11  Block         90 non-null     float64\n",
      " 12  ReusedCount   90 non-null     int64  \n",
      " 13  Class         90 non-null     int64  \n",
      "dtypes: bool(3), float64(2), int64(4), object(5)\n",
      "memory usage: 8.1+ KB\n"
     ]
    }
   ],
   "source": [
    "# as the 3 above mentioned columns have the same meaning, we can ommit 2 of them\n",
    "\n",
    "# in addition, we can also drop the column(Boosterversion) since it has only one value and therefore effectless.\n",
    "# and also the column (serial) can be dropped:\n",
    "\n",
    "df=df.drop(['BoosterVersion','Serial','Longitude','Latitude'], axis=1)\n",
    "df.info()"
   ]
  },
  {
   "cell_type": "code",
   "execution_count": 293,
   "id": "02c40076",
   "metadata": {},
   "outputs": [],
   "source": [
    "# the number of columns changed from 18 to 14"
   ]
  },
  {
   "cell_type": "markdown",
   "id": "5eff7517",
   "metadata": {},
   "source": [
    "### Visualization\n",
    "* MatplotLib and SeaBorn are the two famous library for data Visualization"
   ]
  },
  {
   "cell_type": "code",
   "execution_count": 294,
   "id": "a64a1e0a",
   "metadata": {},
   "outputs": [],
   "source": [
    "#first we install the required libraries, if not already installed\n",
    "# !pip install matplotlib\n",
    "# !pip install seaborn\n",
    "\n",
    "#and for have the result at the same window(only in jupyter notebook):\n",
    "#%matplotlib inline"
   ]
  },
  {
   "cell_type": "code",
   "execution_count": 295,
   "id": "eac2cac1",
   "metadata": {},
   "outputs": [],
   "source": [
    "import seaborn as sns\n",
    "import matplotlib.pyplot as plt"
   ]
  },
  {
   "cell_type": "code",
   "execution_count": 296,
   "id": "c7fb2d22",
   "metadata": {},
   "outputs": [
    {
     "name": "stderr",
     "output_type": "stream",
     "text": [
      "C:\\Users\\ASUS\\anaconda3\\Lib\\site-packages\\seaborn\\axisgrid.py:118: UserWarning: The figure layout has changed to tight\n",
      "  self._figure.tight_layout(*args, **kwargs)\n"
     ]
    },
    {
     "data": {
      "image/png": "[encoded data removed]",
      "text/plain": [
       "<Figure size 2500x500 with 1 Axes>"
      ]
     },
     "metadata": {},
     "output_type": "display_data"
    }
   ],
   "source": [
    "# to visualize the relation between PayloadMass and FlightNumber:\n",
    "\n",
    "sns.catplot(y=\"PayloadMass\" , x=\"FlightNumber\" , data= df , aspect=5)\n",
    "\n",
    "#uncomment to see the hue effect:\n",
    "# sns.catplot(y=\"PayloadMass\" , x=\"FlightNumber\" ,hue=\"Class\", data= df , aspect=5)\n",
    "\n",
    "plt.xlabel(\"Flight Number\" , fontsize=20)\n",
    "plt.ylabel(\"Pay load mass (kg)\" , fontsize =20)\n",
    "plt.show()"
   ]
  },
  {
   "cell_type": "code",
   "execution_count": 297,
   "id": "f6636726",
   "metadata": {},
   "outputs": [
    {
     "name": "stderr",
     "output_type": "stream",
     "text": [
      "C:\\Users\\ASUS\\anaconda3\\Lib\\site-packages\\seaborn\\axisgrid.py:118: UserWarning: The figure layout has changed to tight\n",
      "  self._figure.tight_layout(*args, **kwargs)\n"
     ]
    },
    {
     "data": {
      "image/png": "[encoded data removed]",
      "text/plain": [
       "<Figure size 2558.88x500 with 1 Axes>"
      ]
     },
     "metadata": {},
     "output_type": "display_data"
    }
   ],
   "source": [
    "# to visualize the relation between LaunchSite and FlightNumber:\n",
    "\n",
    "\n",
    "#uncomment to see the hue effect:\n",
    "sns.catplot(y=\"LaunchSite\" , x=\"FlightNumber\" ,hue=\"Class\", data= df , aspect=5)\n",
    "# sns.catplot(y=\"LaunchSite\" , x=\"FlightNumber\" , data= df , aspect=5)\n",
    "\n",
    "plt.xlabel(\"Flight Number\" , fontsize=20)\n",
    "plt.ylabel(\"LaunchSite\" , fontsize =20)\n",
    "plt.show()"
   ]
  },
  {
   "cell_type": "code",
   "execution_count": 298,
   "id": "ae60270b",
   "metadata": {},
   "outputs": [
    {
     "name": "stderr",
     "output_type": "stream",
     "text": [
      "C:\\Users\\ASUS\\anaconda3\\Lib\\site-packages\\seaborn\\axisgrid.py:118: UserWarning: The figure layout has changed to tight\n",
      "  self._figure.tight_layout(*args, **kwargs)\n"
     ]
    },
    {
     "data": {
      "image/png": "[encoded data removed]",
      "text/plain": [
       "<Figure size 2558.88x500 with 1 Axes>"
      ]
     },
     "metadata": {},
     "output_type": "display_data"
    }
   ],
   "source": [
    "# to visualize the relation between LaunchSite and PayloadMass:\n",
    "\n",
    "\n",
    "#uncomment to see the hue effect:\n",
    "sns.catplot(x=\"LaunchSite\" , y=\"PayloadMass\" ,hue=\"Class\", data= df , aspect=5)\n",
    "# sns.catplot(y=\"LaunchSite\" , x=\"PayloadMass\" , data= df , aspect=5)\n",
    "\n",
    "plt.xlabel(\"LaunchSite\" , fontsize =20)\n",
    "plt.ylabel(\"PayloadMass\" , fontsize=20)\n",
    "\n",
    "plt.show()"
   ]
  },
  {
   "cell_type": "code",
   "execution_count": 299,
   "id": "b0916100",
   "metadata": {},
   "outputs": [],
   "source": [
    "#depend on our goal, we can visualise relation between each desired paires "
   ]
  },
  {
   "cell_type": "code",
   "execution_count": 300,
   "id": "6e7ccbc3",
   "metadata": {},
   "outputs": [
    {
     "name": "stderr",
     "output_type": "stream",
     "text": [
      "C:\\Users\\ASUS\\anaconda3\\Lib\\site-packages\\seaborn\\axisgrid.py:118: UserWarning: The figure layout has changed to tight\n",
      "  self._figure.tight_layout(*args, **kwargs)\n"
     ]
    },
    {
     "data": {
      "text/plain": [
       "<seaborn.axisgrid.FacetGrid at 0x16ec2913ed0>"
      ]
     },
     "execution_count": 300,
     "metadata": {},
     "output_type": "execute_result"
    },
    {
     "data": {
      "image/png": "[encoded data removed]",
      "text/plain": [
       "<Figure size 500x500 with 1 Axes>"
      ]
     },
     "metadata": {},
     "output_type": "display_data"
    }
   ],
   "source": [
    "#to visualize the number of flight proportional to Payload (for numerical data)\n",
    "sns.displot(df['PayloadMass'])"
   ]
  },
  {
   "cell_type": "code",
   "execution_count": 301,
   "id": "157a175c",
   "metadata": {},
   "outputs": [
    {
     "data": {
      "text/plain": [
       "<Axes: xlabel='LaunchSite', ylabel='count'>"
      ]
     },
     "execution_count": 301,
     "metadata": {},
     "output_type": "execute_result"
    },
    {
     "data": {
      "image/png": "[encoded data removed]",
      "text/plain": [
       "<Figure size 640x480 with 1 Axes>"
      ]
     },
     "metadata": {},
     "output_type": "display_data"
    }
   ],
   "source": [
    "# using (countplot) to have bar chart of the (categorical data)\n",
    "sns.countplot(x=\"LaunchSite\",data=df)"
   ]
  },
  {
   "cell_type": "markdown",
   "id": "00fef326",
   "metadata": {},
   "source": [
    "#### Note\n",
    "* we use (sns.countplot) for categorical data\n",
    "* and use (sns.displot) for numerical data"
   ]
  },
  {
   "cell_type": "code",
   "execution_count": 302,
   "id": "73391a49",
   "metadata": {},
   "outputs": [
    {
     "data": {
      "text/plain": [
       "Index(['FlightNumber', 'Date', 'PayloadMass', 'Orbit', 'LaunchSite', 'Outcome',\n",
       "       'Flights', 'GridFins', 'Reused', 'Legs', 'LandingPad', 'Block',\n",
       "       'ReusedCount', 'Class'],\n",
       "      dtype='object')"
      ]
     },
     "execution_count": 302,
     "metadata": {},
     "output_type": "execute_result"
    }
   ],
   "source": [
    "df.columns"
   ]
  },
  {
   "cell_type": "markdown",
   "id": "a406af7b",
   "metadata": {},
   "source": [
    "### Data Preprocessing session"
   ]
  },
  {
   "cell_type": "code",
   "execution_count": 303,
   "id": "038a9775",
   "metadata": {},
   "outputs": [],
   "source": [
    "# to train a ML model we need to convert all the categorical to Numerical Data\n",
    "# in this session we are going to see how to manage the missing values"
   ]
  },
  {
   "cell_type": "code",
   "execution_count": 304,
   "id": "6bdfda7a",
   "metadata": {},
   "outputs": [
    {
     "name": "stdout",
     "output_type": "stream",
     "text": [
      "<class 'pandas.core.frame.DataFrame'>\n",
      "RangeIndex: 90 entries, 0 to 89\n",
      "Data columns (total 18 columns):\n",
      " #   Column          Non-Null Count  Dtype         \n",
      "---  ------          --------------  -----         \n",
      " 0   FlightNumber    90 non-null     int64         \n",
      " 1   Date            90 non-null     datetime64[ns]\n",
      " 2   BoosterVersion  90 non-null     object        \n",
      " 3   PayloadMass     81 non-null     float64       \n",
      " 4   Orbit           90 non-null     object        \n",
      " 5   LaunchSite      86 non-null     object        \n",
      " 6   Outcome         90 non-null     object        \n",
      " 7   Flights         90 non-null     int64         \n",
      " 8   GridFins        90 non-null     bool          \n",
      " 9   Reused          90 non-null     bool          \n",
      " 10  Legs            90 non-null     bool          \n",
      " 11  LandingPad      64 non-null     object        \n",
      " 12  Block           90 non-null     int64         \n",
      " 13  ReusedCount     90 non-null     int64         \n",
      " 14  Serial          90 non-null     object        \n",
      " 15  Longitude       90 non-null     float64       \n",
      " 16  Latitude        90 non-null     float64       \n",
      " 17  Class           90 non-null     int64         \n",
      "dtypes: bool(3), datetime64[ns](1), float64(3), int64(5), object(6)\n",
      "memory usage: 10.9+ KB\n"
     ]
    }
   ],
   "source": [
    "df_missing=pd.read_excel('missing_dataset_falcon9.xlsx')\n",
    "df_missing.info()"
   ]
  },
  {
   "cell_type": "code",
   "execution_count": 305,
   "id": "c192b768",
   "metadata": {},
   "outputs": [
    {
     "name": "stdout",
     "output_type": "stream",
     "text": [
      "<class 'pandas.core.frame.DataFrame'>\n",
      "Index: 58 entries, 13 to 89\n",
      "Data columns (total 18 columns):\n",
      " #   Column          Non-Null Count  Dtype         \n",
      "---  ------          --------------  -----         \n",
      " 0   FlightNumber    58 non-null     int64         \n",
      " 1   Date            58 non-null     datetime64[ns]\n",
      " 2   BoosterVersion  58 non-null     object        \n",
      " 3   PayloadMass     58 non-null     float64       \n",
      " 4   Orbit           58 non-null     object        \n",
      " 5   LaunchSite      58 non-null     object        \n",
      " 6   Outcome         58 non-null     object        \n",
      " 7   Flights         58 non-null     int64         \n",
      " 8   GridFins        58 non-null     bool          \n",
      " 9   Reused          58 non-null     bool          \n",
      " 10  Legs            58 non-null     bool          \n",
      " 11  LandingPad      58 non-null     object        \n",
      " 12  Block           58 non-null     int64         \n",
      " 13  ReusedCount     58 non-null     int64         \n",
      " 14  Serial          58 non-null     object        \n",
      " 15  Longitude       58 non-null     float64       \n",
      " 16  Latitude        58 non-null     float64       \n",
      " 17  Class           58 non-null     int64         \n",
      "dtypes: bool(3), datetime64[ns](1), float64(3), int64(5), object(6)\n",
      "memory usage: 7.4+ KB\n"
     ]
    }
   ],
   "source": [
    "# we can see that we have some missing values\n",
    "# the first method is to drop the rows which consist missing values\n",
    "df_row=df_missing.dropna(axis=0)\n",
    "df_row.info()"
   ]
  },
  {
   "cell_type": "code",
   "execution_count": 306,
   "id": "222e9b81",
   "metadata": {},
   "outputs": [],
   "source": [
    "# as it is obvious great percentage of the data will be lost by this method."
   ]
  },
  {
   "cell_type": "code",
   "execution_count": 307,
   "id": "f8eccdad",
   "metadata": {},
   "outputs": [
    {
     "name": "stdout",
     "output_type": "stream",
     "text": [
      "<class 'pandas.core.frame.DataFrame'>\n",
      "RangeIndex: 90 entries, 0 to 89\n",
      "Data columns (total 15 columns):\n",
      " #   Column          Non-Null Count  Dtype         \n",
      "---  ------          --------------  -----         \n",
      " 0   FlightNumber    90 non-null     int64         \n",
      " 1   Date            90 non-null     datetime64[ns]\n",
      " 2   BoosterVersion  90 non-null     object        \n",
      " 3   Orbit           90 non-null     object        \n",
      " 4   Outcome         90 non-null     object        \n",
      " 5   Flights         90 non-null     int64         \n",
      " 6   GridFins        90 non-null     bool          \n",
      " 7   Reused          90 non-null     bool          \n",
      " 8   Legs            90 non-null     bool          \n",
      " 9   Block           90 non-null     int64         \n",
      " 10  ReusedCount     90 non-null     int64         \n",
      " 11  Serial          90 non-null     object        \n",
      " 12  Longitude       90 non-null     float64       \n",
      " 13  Latitude        90 non-null     float64       \n",
      " 14  Class           90 non-null     int64         \n",
      "dtypes: bool(3), datetime64[ns](1), float64(2), int64(5), object(4)\n",
      "memory usage: 8.8+ KB\n"
     ]
    }
   ],
   "source": [
    "# the second method is to delet the columns with missing values:\n",
    "df_col=df_missing.dropna(axis=1)\n",
    "df_col.info()"
   ]
  },
  {
   "cell_type": "code",
   "execution_count": 308,
   "id": "61648767",
   "metadata": {},
   "outputs": [],
   "source": [
    "# so the number of columns from 18 reduced to 15. \n",
    "# now it is upto us to decide whether it is a good method or no\n"
   ]
  },
  {
   "cell_type": "code",
   "execution_count": 309,
   "id": "e98dc0c0",
   "metadata": {},
   "outputs": [
    {
     "data": {
      "text/plain": [
       "6379.7368845315905"
      ]
     },
     "execution_count": 309,
     "metadata": {},
     "output_type": "execute_result"
    }
   ],
   "source": [
    "#other method is to replace the NAN values, with the average value of related column:\n",
    "#lets focus on the column (PayloadMass)\n",
    "# let see the average value of it\n",
    "payLoadMean=df_missing['PayloadMass'].mean()\n",
    "payLoadMean"
   ]
  },
  {
   "cell_type": "code",
   "execution_count": 310,
   "id": "690e3131",
   "metadata": {},
   "outputs": [
    {
     "data": {
      "text/plain": [
       "0      6104.959412\n",
       "1       525.000000\n",
       "2       677.000000\n",
       "3              NaN\n",
       "4      3170.000000\n",
       "          ...     \n",
       "85    15400.000000\n",
       "86    15400.000000\n",
       "87    15400.000000\n",
       "88    15400.000000\n",
       "89     3681.000000\n",
       "Name: PayloadMass, Length: 90, dtype: float64"
      ]
     },
     "execution_count": 310,
     "metadata": {},
     "output_type": "execute_result"
    }
   ],
   "source": [
    "df_missing['PayloadMass']"
   ]
  },
  {
   "cell_type": "code",
   "execution_count": 311,
   "id": "f61b0ab2",
   "metadata": {},
   "outputs": [
    {
     "data": {
      "text/plain": [
       "0      6104.959412\n",
       "1       525.000000\n",
       "2       677.000000\n",
       "3      6379.736885\n",
       "4      3170.000000\n",
       "          ...     \n",
       "85    15400.000000\n",
       "86    15400.000000\n",
       "87    15400.000000\n",
       "88    15400.000000\n",
       "89     3681.000000\n",
       "Name: PayloadMass, Length: 90, dtype: float64"
      ]
     },
     "execution_count": 311,
     "metadata": {},
     "output_type": "execute_result"
    }
   ],
   "source": [
    "#note:\n",
    "#the 1th arguman is the (going) and the 2th argoman is the (comming) one\n",
    "df_missing['PayloadMass']=df_missing['PayloadMass'].replace(np.nan,payLoadMean)\n",
    "df_missing['PayloadMass']"
   ]
  },
  {
   "cell_type": "code",
   "execution_count": 312,
   "id": "939f1744",
   "metadata": {},
   "outputs": [
    {
     "data": {
      "text/plain": [
       "LaunchSite\n",
       "CCAFS SLC 40    53\n",
       "KSC LC 39A      20\n",
       "VAFB SLC 4E     13\n",
       "Name: count, dtype: int64"
      ]
     },
     "execution_count": 312,
     "metadata": {},
     "output_type": "execute_result"
    }
   ],
   "source": [
    "#lets go to the column (LaunchSite) which is a categorical data:\n",
    "\n",
    "df_missing['LaunchSite'].value_counts()\n"
   ]
  },
  {
   "cell_type": "code",
   "execution_count": 313,
   "id": "3a32d575",
   "metadata": {},
   "outputs": [
    {
     "data": {
      "text/plain": [
       "0     CCAFS SLC 40\n",
       "1     CCAFS SLC 40\n",
       "2     CCAFS SLC 40\n",
       "3      VAFB SLC 4E\n",
       "4              NaN\n",
       "          ...     \n",
       "85      KSC LC 39A\n",
       "86      KSC LC 39A\n",
       "87      KSC LC 39A\n",
       "88    CCAFS SLC 40\n",
       "89    CCAFS SLC 40\n",
       "Name: LaunchSite, Length: 90, dtype: object"
      ]
     },
     "execution_count": 313,
     "metadata": {},
     "output_type": "execute_result"
    }
   ],
   "source": [
    "df_missing['LaunchSite']"
   ]
  },
  {
   "cell_type": "code",
   "execution_count": 314,
   "id": "8327fc53",
   "metadata": {},
   "outputs": [
    {
     "data": {
      "text/plain": [
       "0     CCAFS SLC 40\n",
       "1     CCAFS SLC 40\n",
       "2     CCAFS SLC 40\n",
       "3      VAFB SLC 4E\n",
       "4     CCAFS SLC 40\n",
       "          ...     \n",
       "85      KSC LC 39A\n",
       "86      KSC LC 39A\n",
       "87      KSC LC 39A\n",
       "88    CCAFS SLC 40\n",
       "89    CCAFS SLC 40\n",
       "Name: LaunchSite, Length: 90, dtype: object"
      ]
     },
     "execution_count": 314,
     "metadata": {},
     "output_type": "execute_result"
    }
   ],
   "source": [
    "#so it is logical to replace to replace the missing value with the most repeated value:\n",
    "\n",
    "df_missing['LaunchSite']=df_missing['LaunchSite'].replace(np.nan,'CCAFS SLC 40')\n",
    "df_missing['LaunchSite']"
   ]
  },
  {
   "cell_type": "code",
   "execution_count": 315,
   "id": "deab0611",
   "metadata": {},
   "outputs": [
    {
     "name": "stdout",
     "output_type": "stream",
     "text": [
      "<class 'pandas.core.frame.DataFrame'>\n",
      "RangeIndex: 90 entries, 0 to 89\n",
      "Data columns (total 18 columns):\n",
      " #   Column          Non-Null Count  Dtype         \n",
      "---  ------          --------------  -----         \n",
      " 0   FlightNumber    90 non-null     int64         \n",
      " 1   Date            90 non-null     datetime64[ns]\n",
      " 2   BoosterVersion  90 non-null     object        \n",
      " 3   PayloadMass     90 non-null     float64       \n",
      " 4   Orbit           90 non-null     object        \n",
      " 5   LaunchSite      90 non-null     object        \n",
      " 6   Outcome         90 non-null     object        \n",
      " 7   Flights         90 non-null     int64         \n",
      " 8   GridFins        90 non-null     bool          \n",
      " 9   Reused          90 non-null     bool          \n",
      " 10  Legs            90 non-null     bool          \n",
      " 11  LandingPad      64 non-null     object        \n",
      " 12  Block           90 non-null     int64         \n",
      " 13  ReusedCount     90 non-null     int64         \n",
      " 14  Serial          90 non-null     object        \n",
      " 15  Longitude       90 non-null     float64       \n",
      " 16  Latitude        90 non-null     float64       \n",
      " 17  Class           90 non-null     int64         \n",
      "dtypes: bool(3), datetime64[ns](1), float64(3), int64(5), object(6)\n",
      "memory usage: 10.9+ KB\n"
     ]
    }
   ],
   "source": [
    "df_missing.info()"
   ]
  },
  {
   "cell_type": "code",
   "execution_count": 316,
   "id": "836c1895",
   "metadata": {},
   "outputs": [],
   "source": [
    "#we can see that the  column(LaunchSite) is consist of 90 rows. it means no missing value exist."
   ]
  },
  {
   "cell_type": "code",
   "execution_count": 317,
   "id": "da200628",
   "metadata": {},
   "outputs": [
    {
     "data": {
      "text/plain": [
       "LandingPad\n",
       "5e9e3032383ecb6bb234e7ca    35\n",
       "5e9e3032383ecb267a34e7c7    13\n",
       "5e9e3033383ecbb9e534e7cc    12\n",
       "5e9e3032383ecb761634e7cb     2\n",
       "5e9e3032383ecb554034e7c9     2\n",
       "Name: count, dtype: int64"
      ]
     },
     "execution_count": 317,
     "metadata": {},
     "output_type": "execute_result"
    }
   ],
   "source": [
    "# now, lets go through the (LandingPad) column with any of the following commands:\n",
    "\n",
    "# df_missing['LandingPad']\n",
    "# df_missing['LandingPad'].info()\n",
    "# df_missing['LandingPad'].describe()\n",
    "df_missing['LandingPad'].value_counts()"
   ]
  },
  {
   "cell_type": "code",
   "execution_count": 318,
   "id": "301d215f",
   "metadata": {},
   "outputs": [
    {
     "data": {
      "text/plain": [
       "{'GTO', 'HEO', 'ISS', 'MEO', 'VLEO'}"
      ]
     },
     "execution_count": 318,
     "metadata": {},
     "output_type": "execute_result"
    }
   ],
   "source": [
    "# it seems that the missing values in (LandingPad) column should replace with('5e9e3032383ecb6bb234e7ca') which is the\n",
    "# most repeated. but it is not correct:\n",
    "df_landigad=df_missing[df_missing['LandingPad']=='5e9e3032383ecb6bb234e7ca']\n",
    "set(df_landigad['Orbit'])"
   ]
  },
  {
   "cell_type": "code",
   "execution_count": 319,
   "id": "587c392f",
   "metadata": {},
   "outputs": [
    {
     "data": {
      "text/html": [
       "<div>\n",
       "<style scoped>\n",
       "    .dataframe tbody tr th:only-of-type {\n",
       "        vertical-align: middle;\n",
       "    }\n",
       "\n",
       "    .dataframe tbody tr th {\n",
       "        vertical-align: top;\n",
       "    }\n",
       "\n",
       "    .dataframe thead th {\n",
       "        text-align: right;\n",
       "    }\n",
       "</style>\n",
       "<table border=\"1\" class=\"dataframe\">\n",
       "  <thead>\n",
       "    <tr style=\"text-align: right;\">\n",
       "      <th></th>\n",
       "      <th>LandingPad</th>\n",
       "      <th>Orbit</th>\n",
       "    </tr>\n",
       "  </thead>\n",
       "  <tbody>\n",
       "    <tr>\n",
       "      <th>0</th>\n",
       "      <td>NaN</td>\n",
       "      <td>LEO</td>\n",
       "    </tr>\n",
       "    <tr>\n",
       "      <th>1</th>\n",
       "      <td>NaN</td>\n",
       "      <td>LEO</td>\n",
       "    </tr>\n",
       "    <tr>\n",
       "      <th>2</th>\n",
       "      <td>NaN</td>\n",
       "      <td>ISS</td>\n",
       "    </tr>\n",
       "    <tr>\n",
       "      <th>3</th>\n",
       "      <td>NaN</td>\n",
       "      <td>PO</td>\n",
       "    </tr>\n",
       "    <tr>\n",
       "      <th>4</th>\n",
       "      <td>NaN</td>\n",
       "      <td>GTO</td>\n",
       "    </tr>\n",
       "    <tr>\n",
       "      <th>...</th>\n",
       "      <td>...</td>\n",
       "      <td>...</td>\n",
       "    </tr>\n",
       "    <tr>\n",
       "      <th>85</th>\n",
       "      <td>5e9e3032383ecb6bb234e7ca</td>\n",
       "      <td>VLEO</td>\n",
       "    </tr>\n",
       "    <tr>\n",
       "      <th>86</th>\n",
       "      <td>5e9e3032383ecb6bb234e7ca</td>\n",
       "      <td>VLEO</td>\n",
       "    </tr>\n",
       "    <tr>\n",
       "      <th>87</th>\n",
       "      <td>5e9e3032383ecb6bb234e7ca</td>\n",
       "      <td>VLEO</td>\n",
       "    </tr>\n",
       "    <tr>\n",
       "      <th>88</th>\n",
       "      <td>5e9e3033383ecbb9e534e7cc</td>\n",
       "      <td>VLEO</td>\n",
       "    </tr>\n",
       "    <tr>\n",
       "      <th>89</th>\n",
       "      <td>5e9e3032383ecb6bb234e7ca</td>\n",
       "      <td>MEO</td>\n",
       "    </tr>\n",
       "  </tbody>\n",
       "</table>\n",
       "<p>90 rows × 2 columns</p>\n",
       "</div>"
      ],
      "text/plain": [
       "                  LandingPad Orbit\n",
       "0                        NaN   LEO\n",
       "1                        NaN   LEO\n",
       "2                        NaN   ISS\n",
       "3                        NaN    PO\n",
       "4                        NaN   GTO\n",
       "..                       ...   ...\n",
       "85  5e9e3032383ecb6bb234e7ca  VLEO\n",
       "86  5e9e3032383ecb6bb234e7ca  VLEO\n",
       "87  5e9e3032383ecb6bb234e7ca  VLEO\n",
       "88  5e9e3033383ecbb9e534e7cc  VLEO\n",
       "89  5e9e3032383ecb6bb234e7ca   MEO\n",
       "\n",
       "[90 rows x 2 columns]"
      ]
     },
     "execution_count": 319,
     "metadata": {},
     "output_type": "execute_result"
    }
   ],
   "source": [
    "df_missing[['LandingPad', 'Orbit']]"
   ]
  },
  {
   "cell_type": "code",
   "execution_count": 320,
   "id": "c405f756",
   "metadata": {},
   "outputs": [],
   "source": [
    "# we should notice that the correct desition for replacing, highly depends on the domain Knowledge"
   ]
  },
  {
   "cell_type": "markdown",
   "id": "a32434de",
   "metadata": {},
   "source": [
    "##### the end of missing value discussion"
   ]
  },
  {
   "cell_type": "code",
   "execution_count": 321,
   "id": "074e2065",
   "metadata": {},
   "outputs": [],
   "source": [
    "# lets  go back to the main dataFrame;\n",
    "\n",
    "#Definition:\n",
    "#Dummy Variable: is a variable used for labeling the categorical variables\n",
    "\n",
    "#for example for the following categorical data we can use dummy variables:"
   ]
  },
  {
   "cell_type": "code",
   "execution_count": 322,
   "id": "e6ad93cb",
   "metadata": {},
   "outputs": [
    {
     "data": {
      "text/plain": [
       "0     CCAFS SLC 40\n",
       "1     CCAFS SLC 40\n",
       "2     CCAFS SLC 40\n",
       "3      VAFB SLC 4E\n",
       "4     CCAFS SLC 40\n",
       "          ...     \n",
       "85      KSC LC 39A\n",
       "86      KSC LC 39A\n",
       "87      KSC LC 39A\n",
       "88    CCAFS SLC 40\n",
       "89    CCAFS SLC 40\n",
       "Name: LaunchSite, Length: 90, dtype: object"
      ]
     },
     "execution_count": 322,
     "metadata": {},
     "output_type": "execute_result"
    }
   ],
   "source": [
    "df['LaunchSite']"
   ]
  },
  {
   "cell_type": "code",
   "execution_count": 323,
   "id": "ac3de4d6",
   "metadata": {},
   "outputs": [
    {
     "data": {
      "text/html": [
       "<div>\n",
       "<style scoped>\n",
       "    .dataframe tbody tr th:only-of-type {\n",
       "        vertical-align: middle;\n",
       "    }\n",
       "\n",
       "    .dataframe tbody tr th {\n",
       "        vertical-align: top;\n",
       "    }\n",
       "\n",
       "    .dataframe thead th {\n",
       "        text-align: right;\n",
       "    }\n",
       "</style>\n",
       "<table border=\"1\" class=\"dataframe\">\n",
       "  <thead>\n",
       "    <tr style=\"text-align: right;\">\n",
       "      <th></th>\n",
       "      <th>CCAFS SLC 40</th>\n",
       "      <th>KSC LC 39A</th>\n",
       "      <th>VAFB SLC 4E</th>\n",
       "    </tr>\n",
       "  </thead>\n",
       "  <tbody>\n",
       "    <tr>\n",
       "      <th>0</th>\n",
       "      <td>True</td>\n",
       "      <td>False</td>\n",
       "      <td>False</td>\n",
       "    </tr>\n",
       "    <tr>\n",
       "      <th>1</th>\n",
       "      <td>True</td>\n",
       "      <td>False</td>\n",
       "      <td>False</td>\n",
       "    </tr>\n",
       "    <tr>\n",
       "      <th>2</th>\n",
       "      <td>True</td>\n",
       "      <td>False</td>\n",
       "      <td>False</td>\n",
       "    </tr>\n",
       "    <tr>\n",
       "      <th>3</th>\n",
       "      <td>False</td>\n",
       "      <td>False</td>\n",
       "      <td>True</td>\n",
       "    </tr>\n",
       "    <tr>\n",
       "      <th>4</th>\n",
       "      <td>True</td>\n",
       "      <td>False</td>\n",
       "      <td>False</td>\n",
       "    </tr>\n",
       "    <tr>\n",
       "      <th>...</th>\n",
       "      <td>...</td>\n",
       "      <td>...</td>\n",
       "      <td>...</td>\n",
       "    </tr>\n",
       "    <tr>\n",
       "      <th>85</th>\n",
       "      <td>False</td>\n",
       "      <td>True</td>\n",
       "      <td>False</td>\n",
       "    </tr>\n",
       "    <tr>\n",
       "      <th>86</th>\n",
       "      <td>False</td>\n",
       "      <td>True</td>\n",
       "      <td>False</td>\n",
       "    </tr>\n",
       "    <tr>\n",
       "      <th>87</th>\n",
       "      <td>False</td>\n",
       "      <td>True</td>\n",
       "      <td>False</td>\n",
       "    </tr>\n",
       "    <tr>\n",
       "      <th>88</th>\n",
       "      <td>True</td>\n",
       "      <td>False</td>\n",
       "      <td>False</td>\n",
       "    </tr>\n",
       "    <tr>\n",
       "      <th>89</th>\n",
       "      <td>True</td>\n",
       "      <td>False</td>\n",
       "      <td>False</td>\n",
       "    </tr>\n",
       "  </tbody>\n",
       "</table>\n",
       "<p>90 rows × 3 columns</p>\n",
       "</div>"
      ],
      "text/plain": [
       "    CCAFS SLC 40  KSC LC 39A  VAFB SLC 4E\n",
       "0           True       False        False\n",
       "1           True       False        False\n",
       "2           True       False        False\n",
       "3          False       False         True\n",
       "4           True       False        False\n",
       "..           ...         ...          ...\n",
       "85         False        True        False\n",
       "86         False        True        False\n",
       "87         False        True        False\n",
       "88          True       False        False\n",
       "89          True       False        False\n",
       "\n",
       "[90 rows x 3 columns]"
      ]
     },
     "execution_count": 323,
     "metadata": {},
     "output_type": "execute_result"
    }
   ],
   "source": [
    "dummy_1=pd.get_dummies(df['LaunchSite'])\n",
    "dummy_1"
   ]
  },
  {
   "cell_type": "code",
   "execution_count": 324,
   "id": "0293ccb2",
   "metadata": {},
   "outputs": [],
   "source": [
    "# as a result, the previous single column (LaunchSite) has been converted to 3 columns"
   ]
  },
  {
   "cell_type": "code",
   "execution_count": 325,
   "id": "0fbdfb8d",
   "metadata": {},
   "outputs": [
    {
     "data": {
      "text/html": [
       "<div>\n",
       "<style scoped>\n",
       "    .dataframe tbody tr th:only-of-type {\n",
       "        vertical-align: middle;\n",
       "    }\n",
       "\n",
       "    .dataframe tbody tr th {\n",
       "        vertical-align: top;\n",
       "    }\n",
       "\n",
       "    .dataframe thead th {\n",
       "        text-align: right;\n",
       "    }\n",
       "</style>\n",
       "<table border=\"1\" class=\"dataframe\">\n",
       "  <thead>\n",
       "    <tr style=\"text-align: right;\">\n",
       "      <th></th>\n",
       "      <th>5e9e3032383ecb267a34e7c7</th>\n",
       "      <th>5e9e3032383ecb554034e7c9</th>\n",
       "      <th>5e9e3032383ecb6bb234e7ca</th>\n",
       "      <th>5e9e3032383ecb761634e7cb</th>\n",
       "      <th>5e9e3033383ecbb9e534e7cc</th>\n",
       "    </tr>\n",
       "  </thead>\n",
       "  <tbody>\n",
       "    <tr>\n",
       "      <th>10</th>\n",
       "      <td>False</td>\n",
       "      <td>False</td>\n",
       "      <td>False</td>\n",
       "      <td>False</td>\n",
       "      <td>False</td>\n",
       "    </tr>\n",
       "    <tr>\n",
       "      <th>11</th>\n",
       "      <td>False</td>\n",
       "      <td>False</td>\n",
       "      <td>False</td>\n",
       "      <td>True</td>\n",
       "      <td>False</td>\n",
       "    </tr>\n",
       "    <tr>\n",
       "      <th>12</th>\n",
       "      <td>False</td>\n",
       "      <td>False</td>\n",
       "      <td>False</td>\n",
       "      <td>False</td>\n",
       "      <td>False</td>\n",
       "    </tr>\n",
       "    <tr>\n",
       "      <th>13</th>\n",
       "      <td>False</td>\n",
       "      <td>False</td>\n",
       "      <td>False</td>\n",
       "      <td>True</td>\n",
       "      <td>False</td>\n",
       "    </tr>\n",
       "    <tr>\n",
       "      <th>14</th>\n",
       "      <td>False</td>\n",
       "      <td>False</td>\n",
       "      <td>False</td>\n",
       "      <td>False</td>\n",
       "      <td>False</td>\n",
       "    </tr>\n",
       "    <tr>\n",
       "      <th>15</th>\n",
       "      <td>False</td>\n",
       "      <td>False</td>\n",
       "      <td>True</td>\n",
       "      <td>False</td>\n",
       "      <td>False</td>\n",
       "    </tr>\n",
       "    <tr>\n",
       "      <th>16</th>\n",
       "      <td>True</td>\n",
       "      <td>False</td>\n",
       "      <td>False</td>\n",
       "      <td>False</td>\n",
       "      <td>False</td>\n",
       "    </tr>\n",
       "    <tr>\n",
       "      <th>17</th>\n",
       "      <td>False</td>\n",
       "      <td>False</td>\n",
       "      <td>False</td>\n",
       "      <td>False</td>\n",
       "      <td>True</td>\n",
       "    </tr>\n",
       "    <tr>\n",
       "      <th>18</th>\n",
       "      <td>False</td>\n",
       "      <td>False</td>\n",
       "      <td>True</td>\n",
       "      <td>False</td>\n",
       "      <td>False</td>\n",
       "    </tr>\n",
       "    <tr>\n",
       "      <th>19</th>\n",
       "      <td>False</td>\n",
       "      <td>False</td>\n",
       "      <td>True</td>\n",
       "      <td>False</td>\n",
       "      <td>False</td>\n",
       "    </tr>\n",
       "  </tbody>\n",
       "</table>\n",
       "</div>"
      ],
      "text/plain": [
       "    5e9e3032383ecb267a34e7c7  5e9e3032383ecb554034e7c9  \\\n",
       "10                     False                     False   \n",
       "11                     False                     False   \n",
       "12                     False                     False   \n",
       "13                     False                     False   \n",
       "14                     False                     False   \n",
       "15                     False                     False   \n",
       "16                      True                     False   \n",
       "17                     False                     False   \n",
       "18                     False                     False   \n",
       "19                     False                     False   \n",
       "\n",
       "    5e9e3032383ecb6bb234e7ca  5e9e3032383ecb761634e7cb  \\\n",
       "10                     False                     False   \n",
       "11                     False                      True   \n",
       "12                     False                     False   \n",
       "13                     False                      True   \n",
       "14                     False                     False   \n",
       "15                      True                     False   \n",
       "16                     False                     False   \n",
       "17                     False                     False   \n",
       "18                      True                     False   \n",
       "19                      True                     False   \n",
       "\n",
       "    5e9e3033383ecbb9e534e7cc  \n",
       "10                     False  \n",
       "11                     False  \n",
       "12                     False  \n",
       "13                     False  \n",
       "14                     False  \n",
       "15                     False  \n",
       "16                     False  \n",
       "17                      True  \n",
       "18                     False  \n",
       "19                     False  "
      ]
     },
     "execution_count": 325,
     "metadata": {},
     "output_type": "execute_result"
    }
   ],
   "source": [
    "# we can do the same for the column(LandingPad)\n",
    "dummy_2=pd.get_dummies(df['LandingPad'])\n",
    "dummy_2[10:20]"
   ]
  },
  {
   "cell_type": "code",
   "execution_count": 326,
   "id": "896d4699",
   "metadata": {},
   "outputs": [
    {
     "data": {
      "text/html": [
       "<div>\n",
       "<style scoped>\n",
       "    .dataframe tbody tr th:only-of-type {\n",
       "        vertical-align: middle;\n",
       "    }\n",
       "\n",
       "    .dataframe tbody tr th {\n",
       "        vertical-align: top;\n",
       "    }\n",
       "\n",
       "    .dataframe thead th {\n",
       "        text-align: right;\n",
       "    }\n",
       "</style>\n",
       "<table border=\"1\" class=\"dataframe\">\n",
       "  <thead>\n",
       "    <tr style=\"text-align: right;\">\n",
       "      <th></th>\n",
       "      <th>Orbit_ES-L1</th>\n",
       "      <th>Orbit_GEO</th>\n",
       "      <th>Orbit_GTO</th>\n",
       "      <th>Orbit_HEO</th>\n",
       "      <th>Orbit_ISS</th>\n",
       "      <th>Orbit_LEO</th>\n",
       "      <th>Orbit_MEO</th>\n",
       "      <th>Orbit_PO</th>\n",
       "      <th>Orbit_SO</th>\n",
       "      <th>Orbit_SSO</th>\n",
       "      <th>...</th>\n",
       "      <th>Outcome_None ASDS</th>\n",
       "      <th>Outcome_None None</th>\n",
       "      <th>Outcome_True ASDS</th>\n",
       "      <th>Outcome_True Ocean</th>\n",
       "      <th>Outcome_True RTLS</th>\n",
       "      <th>LandingPad_5e9e3032383ecb267a34e7c7</th>\n",
       "      <th>LandingPad_5e9e3032383ecb554034e7c9</th>\n",
       "      <th>LandingPad_5e9e3032383ecb6bb234e7ca</th>\n",
       "      <th>LandingPad_5e9e3032383ecb761634e7cb</th>\n",
       "      <th>LandingPad_5e9e3033383ecbb9e534e7cc</th>\n",
       "    </tr>\n",
       "  </thead>\n",
       "  <tbody>\n",
       "    <tr>\n",
       "      <th>0</th>\n",
       "      <td>False</td>\n",
       "      <td>False</td>\n",
       "      <td>False</td>\n",
       "      <td>False</td>\n",
       "      <td>False</td>\n",
       "      <td>True</td>\n",
       "      <td>False</td>\n",
       "      <td>False</td>\n",
       "      <td>False</td>\n",
       "      <td>False</td>\n",
       "      <td>...</td>\n",
       "      <td>False</td>\n",
       "      <td>True</td>\n",
       "      <td>False</td>\n",
       "      <td>False</td>\n",
       "      <td>False</td>\n",
       "      <td>False</td>\n",
       "      <td>False</td>\n",
       "      <td>False</td>\n",
       "      <td>False</td>\n",
       "      <td>False</td>\n",
       "    </tr>\n",
       "    <tr>\n",
       "      <th>1</th>\n",
       "      <td>False</td>\n",
       "      <td>False</td>\n",
       "      <td>False</td>\n",
       "      <td>False</td>\n",
       "      <td>False</td>\n",
       "      <td>True</td>\n",
       "      <td>False</td>\n",
       "      <td>False</td>\n",
       "      <td>False</td>\n",
       "      <td>False</td>\n",
       "      <td>...</td>\n",
       "      <td>False</td>\n",
       "      <td>True</td>\n",
       "      <td>False</td>\n",
       "      <td>False</td>\n",
       "      <td>False</td>\n",
       "      <td>False</td>\n",
       "      <td>False</td>\n",
       "      <td>False</td>\n",
       "      <td>False</td>\n",
       "      <td>False</td>\n",
       "    </tr>\n",
       "    <tr>\n",
       "      <th>2</th>\n",
       "      <td>False</td>\n",
       "      <td>False</td>\n",
       "      <td>False</td>\n",
       "      <td>False</td>\n",
       "      <td>True</td>\n",
       "      <td>False</td>\n",
       "      <td>False</td>\n",
       "      <td>False</td>\n",
       "      <td>False</td>\n",
       "      <td>False</td>\n",
       "      <td>...</td>\n",
       "      <td>False</td>\n",
       "      <td>True</td>\n",
       "      <td>False</td>\n",
       "      <td>False</td>\n",
       "      <td>False</td>\n",
       "      <td>False</td>\n",
       "      <td>False</td>\n",
       "      <td>False</td>\n",
       "      <td>False</td>\n",
       "      <td>False</td>\n",
       "    </tr>\n",
       "    <tr>\n",
       "      <th>3</th>\n",
       "      <td>False</td>\n",
       "      <td>False</td>\n",
       "      <td>False</td>\n",
       "      <td>False</td>\n",
       "      <td>False</td>\n",
       "      <td>False</td>\n",
       "      <td>False</td>\n",
       "      <td>True</td>\n",
       "      <td>False</td>\n",
       "      <td>False</td>\n",
       "      <td>...</td>\n",
       "      <td>False</td>\n",
       "      <td>False</td>\n",
       "      <td>False</td>\n",
       "      <td>False</td>\n",
       "      <td>False</td>\n",
       "      <td>False</td>\n",
       "      <td>False</td>\n",
       "      <td>False</td>\n",
       "      <td>False</td>\n",
       "      <td>False</td>\n",
       "    </tr>\n",
       "    <tr>\n",
       "      <th>4</th>\n",
       "      <td>False</td>\n",
       "      <td>False</td>\n",
       "      <td>True</td>\n",
       "      <td>False</td>\n",
       "      <td>False</td>\n",
       "      <td>False</td>\n",
       "      <td>False</td>\n",
       "      <td>False</td>\n",
       "      <td>False</td>\n",
       "      <td>False</td>\n",
       "      <td>...</td>\n",
       "      <td>False</td>\n",
       "      <td>True</td>\n",
       "      <td>False</td>\n",
       "      <td>False</td>\n",
       "      <td>False</td>\n",
       "      <td>False</td>\n",
       "      <td>False</td>\n",
       "      <td>False</td>\n",
       "      <td>False</td>\n",
       "      <td>False</td>\n",
       "    </tr>\n",
       "    <tr>\n",
       "      <th>...</th>\n",
       "      <td>...</td>\n",
       "      <td>...</td>\n",
       "      <td>...</td>\n",
       "      <td>...</td>\n",
       "      <td>...</td>\n",
       "      <td>...</td>\n",
       "      <td>...</td>\n",
       "      <td>...</td>\n",
       "      <td>...</td>\n",
       "      <td>...</td>\n",
       "      <td>...</td>\n",
       "      <td>...</td>\n",
       "      <td>...</td>\n",
       "      <td>...</td>\n",
       "      <td>...</td>\n",
       "      <td>...</td>\n",
       "      <td>...</td>\n",
       "      <td>...</td>\n",
       "      <td>...</td>\n",
       "      <td>...</td>\n",
       "      <td>...</td>\n",
       "    </tr>\n",
       "    <tr>\n",
       "      <th>85</th>\n",
       "      <td>False</td>\n",
       "      <td>False</td>\n",
       "      <td>False</td>\n",
       "      <td>False</td>\n",
       "      <td>False</td>\n",
       "      <td>False</td>\n",
       "      <td>False</td>\n",
       "      <td>False</td>\n",
       "      <td>False</td>\n",
       "      <td>False</td>\n",
       "      <td>...</td>\n",
       "      <td>False</td>\n",
       "      <td>False</td>\n",
       "      <td>True</td>\n",
       "      <td>False</td>\n",
       "      <td>False</td>\n",
       "      <td>False</td>\n",
       "      <td>False</td>\n",
       "      <td>True</td>\n",
       "      <td>False</td>\n",
       "      <td>False</td>\n",
       "    </tr>\n",
       "    <tr>\n",
       "      <th>86</th>\n",
       "      <td>False</td>\n",
       "      <td>False</td>\n",
       "      <td>False</td>\n",
       "      <td>False</td>\n",
       "      <td>False</td>\n",
       "      <td>False</td>\n",
       "      <td>False</td>\n",
       "      <td>False</td>\n",
       "      <td>False</td>\n",
       "      <td>False</td>\n",
       "      <td>...</td>\n",
       "      <td>False</td>\n",
       "      <td>False</td>\n",
       "      <td>True</td>\n",
       "      <td>False</td>\n",
       "      <td>False</td>\n",
       "      <td>False</td>\n",
       "      <td>False</td>\n",
       "      <td>True</td>\n",
       "      <td>False</td>\n",
       "      <td>False</td>\n",
       "    </tr>\n",
       "    <tr>\n",
       "      <th>87</th>\n",
       "      <td>False</td>\n",
       "      <td>False</td>\n",
       "      <td>False</td>\n",
       "      <td>False</td>\n",
       "      <td>False</td>\n",
       "      <td>False</td>\n",
       "      <td>False</td>\n",
       "      <td>False</td>\n",
       "      <td>False</td>\n",
       "      <td>False</td>\n",
       "      <td>...</td>\n",
       "      <td>False</td>\n",
       "      <td>False</td>\n",
       "      <td>True</td>\n",
       "      <td>False</td>\n",
       "      <td>False</td>\n",
       "      <td>False</td>\n",
       "      <td>False</td>\n",
       "      <td>True</td>\n",
       "      <td>False</td>\n",
       "      <td>False</td>\n",
       "    </tr>\n",
       "    <tr>\n",
       "      <th>88</th>\n",
       "      <td>False</td>\n",
       "      <td>False</td>\n",
       "      <td>False</td>\n",
       "      <td>False</td>\n",
       "      <td>False</td>\n",
       "      <td>False</td>\n",
       "      <td>False</td>\n",
       "      <td>False</td>\n",
       "      <td>False</td>\n",
       "      <td>False</td>\n",
       "      <td>...</td>\n",
       "      <td>False</td>\n",
       "      <td>False</td>\n",
       "      <td>True</td>\n",
       "      <td>False</td>\n",
       "      <td>False</td>\n",
       "      <td>False</td>\n",
       "      <td>False</td>\n",
       "      <td>False</td>\n",
       "      <td>False</td>\n",
       "      <td>True</td>\n",
       "    </tr>\n",
       "    <tr>\n",
       "      <th>89</th>\n",
       "      <td>False</td>\n",
       "      <td>False</td>\n",
       "      <td>False</td>\n",
       "      <td>False</td>\n",
       "      <td>False</td>\n",
       "      <td>False</td>\n",
       "      <td>True</td>\n",
       "      <td>False</td>\n",
       "      <td>False</td>\n",
       "      <td>False</td>\n",
       "      <td>...</td>\n",
       "      <td>False</td>\n",
       "      <td>False</td>\n",
       "      <td>True</td>\n",
       "      <td>False</td>\n",
       "      <td>False</td>\n",
       "      <td>False</td>\n",
       "      <td>False</td>\n",
       "      <td>True</td>\n",
       "      <td>False</td>\n",
       "      <td>False</td>\n",
       "    </tr>\n",
       "  </tbody>\n",
       "</table>\n",
       "<p>90 rows × 27 columns</p>\n",
       "</div>"
      ],
      "text/plain": [
       "    Orbit_ES-L1  Orbit_GEO  Orbit_GTO  Orbit_HEO  Orbit_ISS  Orbit_LEO  \\\n",
       "0         False      False      False      False      False       True   \n",
       "1         False      False      False      False      False       True   \n",
       "2         False      False      False      False       True      False   \n",
       "3         False      False      False      False      False      False   \n",
       "4         False      False       True      False      False      False   \n",
       "..          ...        ...        ...        ...        ...        ...   \n",
       "85        False      False      False      False      False      False   \n",
       "86        False      False      False      False      False      False   \n",
       "87        False      False      False      False      False      False   \n",
       "88        False      False      False      False      False      False   \n",
       "89        False      False      False      False      False      False   \n",
       "\n",
       "    Orbit_MEO  Orbit_PO  Orbit_SO  Orbit_SSO  ...  Outcome_None ASDS  \\\n",
       "0       False     False     False      False  ...              False   \n",
       "1       False     False     False      False  ...              False   \n",
       "2       False     False     False      False  ...              False   \n",
       "3       False      True     False      False  ...              False   \n",
       "4       False     False     False      False  ...              False   \n",
       "..        ...       ...       ...        ...  ...                ...   \n",
       "85      False     False     False      False  ...              False   \n",
       "86      False     False     False      False  ...              False   \n",
       "87      False     False     False      False  ...              False   \n",
       "88      False     False     False      False  ...              False   \n",
       "89       True     False     False      False  ...              False   \n",
       "\n",
       "    Outcome_None None  Outcome_True ASDS  Outcome_True Ocean  \\\n",
       "0                True              False               False   \n",
       "1                True              False               False   \n",
       "2                True              False               False   \n",
       "3               False              False               False   \n",
       "4                True              False               False   \n",
       "..                ...                ...                 ...   \n",
       "85              False               True               False   \n",
       "86              False               True               False   \n",
       "87              False               True               False   \n",
       "88              False               True               False   \n",
       "89              False               True               False   \n",
       "\n",
       "    Outcome_True RTLS  LandingPad_5e9e3032383ecb267a34e7c7  \\\n",
       "0               False                                False   \n",
       "1               False                                False   \n",
       "2               False                                False   \n",
       "3               False                                False   \n",
       "4               False                                False   \n",
       "..                ...                                  ...   \n",
       "85              False                                False   \n",
       "86              False                                False   \n",
       "87              False                                False   \n",
       "88              False                                False   \n",
       "89              False                                False   \n",
       "\n",
       "    LandingPad_5e9e3032383ecb554034e7c9  LandingPad_5e9e3032383ecb6bb234e7ca  \\\n",
       "0                                 False                                False   \n",
       "1                                 False                                False   \n",
       "2                                 False                                False   \n",
       "3                                 False                                False   \n",
       "4                                 False                                False   \n",
       "..                                  ...                                  ...   \n",
       "85                                False                                 True   \n",
       "86                                False                                 True   \n",
       "87                                False                                 True   \n",
       "88                                False                                False   \n",
       "89                                False                                 True   \n",
       "\n",
       "    LandingPad_5e9e3032383ecb761634e7cb  LandingPad_5e9e3033383ecbb9e534e7cc  \n",
       "0                                 False                                False  \n",
       "1                                 False                                False  \n",
       "2                                 False                                False  \n",
       "3                                 False                                False  \n",
       "4                                 False                                False  \n",
       "..                                  ...                                  ...  \n",
       "85                                False                                False  \n",
       "86                                False                                False  \n",
       "87                                False                                False  \n",
       "88                                False                                 True  \n",
       "89                                False                                False  \n",
       "\n",
       "[90 rows x 27 columns]"
      ]
     },
     "execution_count": 326,
     "metadata": {},
     "output_type": "execute_result"
    }
   ],
   "source": [
    "#we can also do it at once. it means, convert all the categorical to numerical by a single line command:\n",
    "# df_dummy= pd.get_dummies(df[['Orbit' ,'LaunchSite','Outcome','LandingPad','Serial']])\n",
    "df_dummy= pd.get_dummies(df[['Orbit' ,'LaunchSite','Outcome','LandingPad']])\n",
    "df_dummy"
   ]
  },
  {
   "cell_type": "code",
   "execution_count": 327,
   "id": "da9e830b",
   "metadata": {},
   "outputs": [],
   "source": [
    "#next step is to convert the types to desired ones:\n",
    "df['GridFins']=df['GridFins'].astype(int)\n",
    "df['Reused']=df['Reused'].astype(int)\n",
    "df['Legs']=df['Legs'].astype(int)"
   ]
  },
  {
   "cell_type": "code",
   "execution_count": null,
   "id": "46d83ade",
   "metadata": {},
   "outputs": [],
   "source": []
  },
  {
   "cell_type": "code",
   "execution_count": 328,
   "id": "f3776485",
   "metadata": {},
   "outputs": [],
   "source": [
    "# next step is to drop the categorical columns and replace them with the dummy variables (df_dummy)\n",
    "df=df.drop(['Orbit' ,'LaunchSite','Outcome','LandingPad','Date'],axis=1)\n"
   ]
  },
  {
   "cell_type": "code",
   "execution_count": 329,
   "id": "e64ed8d4",
   "metadata": {},
   "outputs": [],
   "source": [
    "df=pd.concat([df,df_dummy],axis=1)"
   ]
  },
  {
   "cell_type": "code",
   "execution_count": 330,
   "id": "969c2f74",
   "metadata": {},
   "outputs": [
    {
     "data": {
      "text/html": [
       "<div>\n",
       "<style scoped>\n",
       "    .dataframe tbody tr th:only-of-type {\n",
       "        vertical-align: middle;\n",
       "    }\n",
       "\n",
       "    .dataframe tbody tr th {\n",
       "        vertical-align: top;\n",
       "    }\n",
       "\n",
       "    .dataframe thead th {\n",
       "        text-align: right;\n",
       "    }\n",
       "</style>\n",
       "<table border=\"1\" class=\"dataframe\">\n",
       "  <thead>\n",
       "    <tr style=\"text-align: right;\">\n",
       "      <th></th>\n",
       "      <th>FlightNumber</th>\n",
       "      <th>PayloadMass</th>\n",
       "      <th>Flights</th>\n",
       "      <th>GridFins</th>\n",
       "      <th>Reused</th>\n",
       "      <th>Legs</th>\n",
       "      <th>Block</th>\n",
       "      <th>ReusedCount</th>\n",
       "      <th>Class</th>\n",
       "      <th>Orbit_ES-L1</th>\n",
       "      <th>...</th>\n",
       "      <th>Outcome_None ASDS</th>\n",
       "      <th>Outcome_None None</th>\n",
       "      <th>Outcome_True ASDS</th>\n",
       "      <th>Outcome_True Ocean</th>\n",
       "      <th>Outcome_True RTLS</th>\n",
       "      <th>LandingPad_5e9e3032383ecb267a34e7c7</th>\n",
       "      <th>LandingPad_5e9e3032383ecb554034e7c9</th>\n",
       "      <th>LandingPad_5e9e3032383ecb6bb234e7ca</th>\n",
       "      <th>LandingPad_5e9e3032383ecb761634e7cb</th>\n",
       "      <th>LandingPad_5e9e3033383ecbb9e534e7cc</th>\n",
       "    </tr>\n",
       "  </thead>\n",
       "  <tbody>\n",
       "    <tr>\n",
       "      <th>0</th>\n",
       "      <td>1</td>\n",
       "      <td>6104.959412</td>\n",
       "      <td>1</td>\n",
       "      <td>0</td>\n",
       "      <td>0</td>\n",
       "      <td>0</td>\n",
       "      <td>1.0</td>\n",
       "      <td>0</td>\n",
       "      <td>0</td>\n",
       "      <td>False</td>\n",
       "      <td>...</td>\n",
       "      <td>False</td>\n",
       "      <td>True</td>\n",
       "      <td>False</td>\n",
       "      <td>False</td>\n",
       "      <td>False</td>\n",
       "      <td>False</td>\n",
       "      <td>False</td>\n",
       "      <td>False</td>\n",
       "      <td>False</td>\n",
       "      <td>False</td>\n",
       "    </tr>\n",
       "    <tr>\n",
       "      <th>1</th>\n",
       "      <td>2</td>\n",
       "      <td>525.000000</td>\n",
       "      <td>1</td>\n",
       "      <td>0</td>\n",
       "      <td>0</td>\n",
       "      <td>0</td>\n",
       "      <td>1.0</td>\n",
       "      <td>0</td>\n",
       "      <td>0</td>\n",
       "      <td>False</td>\n",
       "      <td>...</td>\n",
       "      <td>False</td>\n",
       "      <td>True</td>\n",
       "      <td>False</td>\n",
       "      <td>False</td>\n",
       "      <td>False</td>\n",
       "      <td>False</td>\n",
       "      <td>False</td>\n",
       "      <td>False</td>\n",
       "      <td>False</td>\n",
       "      <td>False</td>\n",
       "    </tr>\n",
       "    <tr>\n",
       "      <th>2</th>\n",
       "      <td>3</td>\n",
       "      <td>677.000000</td>\n",
       "      <td>1</td>\n",
       "      <td>0</td>\n",
       "      <td>0</td>\n",
       "      <td>0</td>\n",
       "      <td>1.0</td>\n",
       "      <td>0</td>\n",
       "      <td>0</td>\n",
       "      <td>False</td>\n",
       "      <td>...</td>\n",
       "      <td>False</td>\n",
       "      <td>True</td>\n",
       "      <td>False</td>\n",
       "      <td>False</td>\n",
       "      <td>False</td>\n",
       "      <td>False</td>\n",
       "      <td>False</td>\n",
       "      <td>False</td>\n",
       "      <td>False</td>\n",
       "      <td>False</td>\n",
       "    </tr>\n",
       "    <tr>\n",
       "      <th>3</th>\n",
       "      <td>4</td>\n",
       "      <td>500.000000</td>\n",
       "      <td>1</td>\n",
       "      <td>0</td>\n",
       "      <td>0</td>\n",
       "      <td>0</td>\n",
       "      <td>1.0</td>\n",
       "      <td>0</td>\n",
       "      <td>0</td>\n",
       "      <td>False</td>\n",
       "      <td>...</td>\n",
       "      <td>False</td>\n",
       "      <td>False</td>\n",
       "      <td>False</td>\n",
       "      <td>False</td>\n",
       "      <td>False</td>\n",
       "      <td>False</td>\n",
       "      <td>False</td>\n",
       "      <td>False</td>\n",
       "      <td>False</td>\n",
       "      <td>False</td>\n",
       "    </tr>\n",
       "    <tr>\n",
       "      <th>4</th>\n",
       "      <td>5</td>\n",
       "      <td>3170.000000</td>\n",
       "      <td>1</td>\n",
       "      <td>0</td>\n",
       "      <td>0</td>\n",
       "      <td>0</td>\n",
       "      <td>1.0</td>\n",
       "      <td>0</td>\n",
       "      <td>0</td>\n",
       "      <td>False</td>\n",
       "      <td>...</td>\n",
       "      <td>False</td>\n",
       "      <td>True</td>\n",
       "      <td>False</td>\n",
       "      <td>False</td>\n",
       "      <td>False</td>\n",
       "      <td>False</td>\n",
       "      <td>False</td>\n",
       "      <td>False</td>\n",
       "      <td>False</td>\n",
       "      <td>False</td>\n",
       "    </tr>\n",
       "  </tbody>\n",
       "</table>\n",
       "<p>5 rows × 36 columns</p>\n",
       "</div>"
      ],
      "text/plain": [
       "   FlightNumber  PayloadMass  Flights  GridFins  Reused  Legs  Block  \\\n",
       "0             1  6104.959412        1         0       0     0    1.0   \n",
       "1             2   525.000000        1         0       0     0    1.0   \n",
       "2             3   677.000000        1         0       0     0    1.0   \n",
       "3             4   500.000000        1         0       0     0    1.0   \n",
       "4             5  3170.000000        1         0       0     0    1.0   \n",
       "\n",
       "   ReusedCount  Class  Orbit_ES-L1  ...  Outcome_None ASDS  Outcome_None None  \\\n",
       "0            0      0        False  ...              False               True   \n",
       "1            0      0        False  ...              False               True   \n",
       "2            0      0        False  ...              False               True   \n",
       "3            0      0        False  ...              False              False   \n",
       "4            0      0        False  ...              False               True   \n",
       "\n",
       "   Outcome_True ASDS  Outcome_True Ocean  Outcome_True RTLS  \\\n",
       "0              False               False              False   \n",
       "1              False               False              False   \n",
       "2              False               False              False   \n",
       "3              False               False              False   \n",
       "4              False               False              False   \n",
       "\n",
       "   LandingPad_5e9e3032383ecb267a34e7c7  LandingPad_5e9e3032383ecb554034e7c9  \\\n",
       "0                                False                                False   \n",
       "1                                False                                False   \n",
       "2                                False                                False   \n",
       "3                                False                                False   \n",
       "4                                False                                False   \n",
       "\n",
       "   LandingPad_5e9e3032383ecb6bb234e7ca  LandingPad_5e9e3032383ecb761634e7cb  \\\n",
       "0                                False                                False   \n",
       "1                                False                                False   \n",
       "2                                False                                False   \n",
       "3                                False                                False   \n",
       "4                                False                                False   \n",
       "\n",
       "   LandingPad_5e9e3033383ecbb9e534e7cc  \n",
       "0                                False  \n",
       "1                                False  \n",
       "2                                False  \n",
       "3                                False  \n",
       "4                                False  \n",
       "\n",
       "[5 rows x 36 columns]"
      ]
     },
     "execution_count": 330,
     "metadata": {},
     "output_type": "execute_result"
    }
   ],
   "source": [
    "df.head()"
   ]
  },
  {
   "cell_type": "code",
   "execution_count": 331,
   "id": "8c11d8c4",
   "metadata": {},
   "outputs": [],
   "source": [
    "# df.info()\n",
    "# now we have a preprocessed DataFrame\n",
    "# so we can save it for further use of the data frame in next sessions."
   ]
  },
  {
   "cell_type": "markdown",
   "id": "9e7637af",
   "metadata": {},
   "source": [
    "#### Read\n",
    "* pd.read_csv()\n",
    "* pd.read_json()\n",
    "* pd.read_excel()\n",
    "* pd.read_sql()\n",
    "\n",
    "#### write\n",
    "* pd.to_csv()\n",
    "* pd.to_json()\n",
    "* pd.to_excel()\n",
    "* pd.to_sql()"
   ]
  },
  {
   "cell_type": "code",
   "execution_count": 333,
   "id": "d027f2ca",
   "metadata": {},
   "outputs": [],
   "source": [
    "df.to_csv('preprocessed_dataset.csv')"
   ]
  },
  {
   "cell_type": "code",
   "execution_count": 334,
   "id": "17f248a8",
   "metadata": {},
   "outputs": [],
   "source": [
    "# df.columns\n",
    "# end of session"
   ]
  },
  {
   "cell_type": "markdown",
   "id": "244302d8",
   "metadata": {},
   "source": [
    "#### logistic Regression\n",
    "\n",
    "* till now we have a clean DataSet\n",
    "* now lets go to ML.\n",
    "* we have 3 types of ML\n",
    "\n",
    "* Supervised learning\n",
    "* unsupervised Learning\n",
    "* Reinforcement learning\n",
    "\n",
    "#### 2 major types of ML:\n",
    "* Classification\n",
    "    * Logistic regression\n",
    "    * Decision tree\n",
    "    * Random Forest\n",
    "    * K Nearest Neighbor\n",
    "* Regression\n",
    "    * Linear Regression"
   ]
  },
  {
   "cell_type": "code",
   "execution_count": 335,
   "id": "fbfe1914",
   "metadata": {},
   "outputs": [
    {
     "data": {
      "text/html": [
       "<div>\n",
       "<style scoped>\n",
       "    .dataframe tbody tr th:only-of-type {\n",
       "        vertical-align: middle;\n",
       "    }\n",
       "\n",
       "    .dataframe tbody tr th {\n",
       "        vertical-align: top;\n",
       "    }\n",
       "\n",
       "    .dataframe thead th {\n",
       "        text-align: right;\n",
       "    }\n",
       "</style>\n",
       "<table border=\"1\" class=\"dataframe\">\n",
       "  <thead>\n",
       "    <tr style=\"text-align: right;\">\n",
       "      <th></th>\n",
       "      <th>Unnamed: 0</th>\n",
       "      <th>FlightNumber</th>\n",
       "      <th>PayloadMass</th>\n",
       "      <th>Flights</th>\n",
       "      <th>GridFins</th>\n",
       "      <th>Reused</th>\n",
       "      <th>Legs</th>\n",
       "      <th>Block</th>\n",
       "      <th>ReusedCount</th>\n",
       "      <th>Class</th>\n",
       "      <th>...</th>\n",
       "      <th>Outcome_None ASDS</th>\n",
       "      <th>Outcome_None None</th>\n",
       "      <th>Outcome_True ASDS</th>\n",
       "      <th>Outcome_True Ocean</th>\n",
       "      <th>Outcome_True RTLS</th>\n",
       "      <th>LandingPad_5e9e3032383ecb267a34e7c7</th>\n",
       "      <th>LandingPad_5e9e3032383ecb554034e7c9</th>\n",
       "      <th>LandingPad_5e9e3032383ecb6bb234e7ca</th>\n",
       "      <th>LandingPad_5e9e3032383ecb761634e7cb</th>\n",
       "      <th>LandingPad_5e9e3033383ecbb9e534e7cc</th>\n",
       "    </tr>\n",
       "  </thead>\n",
       "  <tbody>\n",
       "    <tr>\n",
       "      <th>0</th>\n",
       "      <td>0</td>\n",
       "      <td>1</td>\n",
       "      <td>6104.959412</td>\n",
       "      <td>1</td>\n",
       "      <td>0</td>\n",
       "      <td>0</td>\n",
       "      <td>0</td>\n",
       "      <td>1.0</td>\n",
       "      <td>0</td>\n",
       "      <td>0</td>\n",
       "      <td>...</td>\n",
       "      <td>False</td>\n",
       "      <td>True</td>\n",
       "      <td>False</td>\n",
       "      <td>False</td>\n",
       "      <td>False</td>\n",
       "      <td>False</td>\n",
       "      <td>False</td>\n",
       "      <td>False</td>\n",
       "      <td>False</td>\n",
       "      <td>False</td>\n",
       "    </tr>\n",
       "    <tr>\n",
       "      <th>1</th>\n",
       "      <td>1</td>\n",
       "      <td>2</td>\n",
       "      <td>525.000000</td>\n",
       "      <td>1</td>\n",
       "      <td>0</td>\n",
       "      <td>0</td>\n",
       "      <td>0</td>\n",
       "      <td>1.0</td>\n",
       "      <td>0</td>\n",
       "      <td>0</td>\n",
       "      <td>...</td>\n",
       "      <td>False</td>\n",
       "      <td>True</td>\n",
       "      <td>False</td>\n",
       "      <td>False</td>\n",
       "      <td>False</td>\n",
       "      <td>False</td>\n",
       "      <td>False</td>\n",
       "      <td>False</td>\n",
       "      <td>False</td>\n",
       "      <td>False</td>\n",
       "    </tr>\n",
       "    <tr>\n",
       "      <th>2</th>\n",
       "      <td>2</td>\n",
       "      <td>3</td>\n",
       "      <td>677.000000</td>\n",
       "      <td>1</td>\n",
       "      <td>0</td>\n",
       "      <td>0</td>\n",
       "      <td>0</td>\n",
       "      <td>1.0</td>\n",
       "      <td>0</td>\n",
       "      <td>0</td>\n",
       "      <td>...</td>\n",
       "      <td>False</td>\n",
       "      <td>True</td>\n",
       "      <td>False</td>\n",
       "      <td>False</td>\n",
       "      <td>False</td>\n",
       "      <td>False</td>\n",
       "      <td>False</td>\n",
       "      <td>False</td>\n",
       "      <td>False</td>\n",
       "      <td>False</td>\n",
       "    </tr>\n",
       "    <tr>\n",
       "      <th>3</th>\n",
       "      <td>3</td>\n",
       "      <td>4</td>\n",
       "      <td>500.000000</td>\n",
       "      <td>1</td>\n",
       "      <td>0</td>\n",
       "      <td>0</td>\n",
       "      <td>0</td>\n",
       "      <td>1.0</td>\n",
       "      <td>0</td>\n",
       "      <td>0</td>\n",
       "      <td>...</td>\n",
       "      <td>False</td>\n",
       "      <td>False</td>\n",
       "      <td>False</td>\n",
       "      <td>False</td>\n",
       "      <td>False</td>\n",
       "      <td>False</td>\n",
       "      <td>False</td>\n",
       "      <td>False</td>\n",
       "      <td>False</td>\n",
       "      <td>False</td>\n",
       "    </tr>\n",
       "    <tr>\n",
       "      <th>4</th>\n",
       "      <td>4</td>\n",
       "      <td>5</td>\n",
       "      <td>3170.000000</td>\n",
       "      <td>1</td>\n",
       "      <td>0</td>\n",
       "      <td>0</td>\n",
       "      <td>0</td>\n",
       "      <td>1.0</td>\n",
       "      <td>0</td>\n",
       "      <td>0</td>\n",
       "      <td>...</td>\n",
       "      <td>False</td>\n",
       "      <td>True</td>\n",
       "      <td>False</td>\n",
       "      <td>False</td>\n",
       "      <td>False</td>\n",
       "      <td>False</td>\n",
       "      <td>False</td>\n",
       "      <td>False</td>\n",
       "      <td>False</td>\n",
       "      <td>False</td>\n",
       "    </tr>\n",
       "  </tbody>\n",
       "</table>\n",
       "<p>5 rows × 37 columns</p>\n",
       "</div>"
      ],
      "text/plain": [
       "   Unnamed: 0  FlightNumber  PayloadMass  Flights  GridFins  Reused  Legs  \\\n",
       "0           0             1  6104.959412        1         0       0     0   \n",
       "1           1             2   525.000000        1         0       0     0   \n",
       "2           2             3   677.000000        1         0       0     0   \n",
       "3           3             4   500.000000        1         0       0     0   \n",
       "4           4             5  3170.000000        1         0       0     0   \n",
       "\n",
       "   Block  ReusedCount  Class  ...  Outcome_None ASDS  Outcome_None None  \\\n",
       "0    1.0            0      0  ...              False               True   \n",
       "1    1.0            0      0  ...              False               True   \n",
       "2    1.0            0      0  ...              False               True   \n",
       "3    1.0            0      0  ...              False              False   \n",
       "4    1.0            0      0  ...              False               True   \n",
       "\n",
       "   Outcome_True ASDS  Outcome_True Ocean  Outcome_True RTLS  \\\n",
       "0              False               False              False   \n",
       "1              False               False              False   \n",
       "2              False               False              False   \n",
       "3              False               False              False   \n",
       "4              False               False              False   \n",
       "\n",
       "   LandingPad_5e9e3032383ecb267a34e7c7  LandingPad_5e9e3032383ecb554034e7c9  \\\n",
       "0                                False                                False   \n",
       "1                                False                                False   \n",
       "2                                False                                False   \n",
       "3                                False                                False   \n",
       "4                                False                                False   \n",
       "\n",
       "   LandingPad_5e9e3032383ecb6bb234e7ca  LandingPad_5e9e3032383ecb761634e7cb  \\\n",
       "0                                False                                False   \n",
       "1                                False                                False   \n",
       "2                                False                                False   \n",
       "3                                False                                False   \n",
       "4                                False                                False   \n",
       "\n",
       "   LandingPad_5e9e3033383ecbb9e534e7cc  \n",
       "0                                False  \n",
       "1                                False  \n",
       "2                                False  \n",
       "3                                False  \n",
       "4                                False  \n",
       "\n",
       "[5 rows x 37 columns]"
      ]
     },
     "execution_count": 335,
     "metadata": {},
     "output_type": "execute_result"
    }
   ],
   "source": [
    "# now first lets read the preprocessed Data Set\n",
    "df=pd.read_csv('preprocessed_dataset.csv')\n",
    "df.head()"
   ]
  },
  {
   "cell_type": "code",
   "execution_count": 336,
   "id": "ffe6ba76",
   "metadata": {},
   "outputs": [
    {
     "name": "stdout",
     "output_type": "stream",
     "text": [
      "<class 'pandas.core.frame.DataFrame'>\n",
      "RangeIndex: 90 entries, 0 to 89\n",
      "Data columns (total 37 columns):\n",
      " #   Column                               Non-Null Count  Dtype  \n",
      "---  ------                               --------------  -----  \n",
      " 0   Unnamed: 0                           90 non-null     int64  \n",
      " 1   FlightNumber                         90 non-null     int64  \n",
      " 2   PayloadMass                          90 non-null     float64\n",
      " 3   Flights                              90 non-null     int64  \n",
      " 4   GridFins                             90 non-null     int64  \n",
      " 5   Reused                               90 non-null     int64  \n",
      " 6   Legs                                 90 non-null     int64  \n",
      " 7   Block                                90 non-null     float64\n",
      " 8   ReusedCount                          90 non-null     int64  \n",
      " 9   Class                                90 non-null     int64  \n",
      " 10  Orbit_ES-L1                          90 non-null     bool   \n",
      " 11  Orbit_GEO                            90 non-null     bool   \n",
      " 12  Orbit_GTO                            90 non-null     bool   \n",
      " 13  Orbit_HEO                            90 non-null     bool   \n",
      " 14  Orbit_ISS                            90 non-null     bool   \n",
      " 15  Orbit_LEO                            90 non-null     bool   \n",
      " 16  Orbit_MEO                            90 non-null     bool   \n",
      " 17  Orbit_PO                             90 non-null     bool   \n",
      " 18  Orbit_SO                             90 non-null     bool   \n",
      " 19  Orbit_SSO                            90 non-null     bool   \n",
      " 20  Orbit_VLEO                           90 non-null     bool   \n",
      " 21  LaunchSite_CCAFS SLC 40              90 non-null     bool   \n",
      " 22  LaunchSite_KSC LC 39A                90 non-null     bool   \n",
      " 23  LaunchSite_VAFB SLC 4E               90 non-null     bool   \n",
      " 24  Outcome_False ASDS                   90 non-null     bool   \n",
      " 25  Outcome_False Ocean                  90 non-null     bool   \n",
      " 26  Outcome_False RTLS                   90 non-null     bool   \n",
      " 27  Outcome_None ASDS                    90 non-null     bool   \n",
      " 28  Outcome_None None                    90 non-null     bool   \n",
      " 29  Outcome_True ASDS                    90 non-null     bool   \n",
      " 30  Outcome_True Ocean                   90 non-null     bool   \n",
      " 31  Outcome_True RTLS                    90 non-null     bool   \n",
      " 32  LandingPad_5e9e3032383ecb267a34e7c7  90 non-null     bool   \n",
      " 33  LandingPad_5e9e3032383ecb554034e7c9  90 non-null     bool   \n",
      " 34  LandingPad_5e9e3032383ecb6bb234e7ca  90 non-null     bool   \n",
      " 35  LandingPad_5e9e3032383ecb761634e7cb  90 non-null     bool   \n",
      " 36  LandingPad_5e9e3033383ecbb9e534e7cc  90 non-null     bool   \n",
      "dtypes: bool(27), float64(2), int64(8)\n",
      "memory usage: 9.5 KB\n"
     ]
    }
   ],
   "source": [
    "# to make sure that our data is clean\n",
    "df.info()"
   ]
  },
  {
   "cell_type": "code",
   "execution_count": 337,
   "id": "7e384e50",
   "metadata": {},
   "outputs": [
    {
     "data": {
      "text/plain": [
       "Unnamed: 0                             0\n",
       "FlightNumber                           0\n",
       "PayloadMass                            0\n",
       "Flights                                0\n",
       "GridFins                               0\n",
       "Reused                                 0\n",
       "Legs                                   0\n",
       "Block                                  0\n",
       "ReusedCount                            0\n",
       "Class                                  0\n",
       "Orbit_ES-L1                            0\n",
       "Orbit_GEO                              0\n",
       "Orbit_GTO                              0\n",
       "Orbit_HEO                              0\n",
       "Orbit_ISS                              0\n",
       "Orbit_LEO                              0\n",
       "Orbit_MEO                              0\n",
       "Orbit_PO                               0\n",
       "Orbit_SO                               0\n",
       "Orbit_SSO                              0\n",
       "Orbit_VLEO                             0\n",
       "LaunchSite_CCAFS SLC 40                0\n",
       "LaunchSite_KSC LC 39A                  0\n",
       "LaunchSite_VAFB SLC 4E                 0\n",
       "Outcome_False ASDS                     0\n",
       "Outcome_False Ocean                    0\n",
       "Outcome_False RTLS                     0\n",
       "Outcome_None ASDS                      0\n",
       "Outcome_None None                      0\n",
       "Outcome_True ASDS                      0\n",
       "Outcome_True Ocean                     0\n",
       "Outcome_True RTLS                      0\n",
       "LandingPad_5e9e3032383ecb267a34e7c7    0\n",
       "LandingPad_5e9e3032383ecb554034e7c9    0\n",
       "LandingPad_5e9e3032383ecb6bb234e7ca    0\n",
       "LandingPad_5e9e3032383ecb761634e7cb    0\n",
       "LandingPad_5e9e3033383ecbb9e534e7cc    0\n",
       "dtype: int64"
      ]
     },
     "execution_count": 337,
     "metadata": {},
     "output_type": "execute_result"
    }
   ],
   "source": [
    "# another method to make sure that no missing data exist.\n",
    "df.isnull().sum()"
   ]
  },
  {
   "cell_type": "code",
   "execution_count": 338,
   "id": "18f18bf1",
   "metadata": {},
   "outputs": [],
   "source": [
    "# so our data is ready to be trained with a ML model\n",
    "X=df.drop('Class', axis=1)\n",
    "y=df['Class']"
   ]
  },
  {
   "cell_type": "code",
   "execution_count": 339,
   "id": "0d774648",
   "metadata": {},
   "outputs": [],
   "source": [
    "# pip install sklearn\n",
    "from sklearn.model_selection import train_test_split\n",
    "X_train , X_test ,y_train , y_test = train_test_split(X , y,\n",
    "                                                     test_size=0.20,\n",
    "                                                     random_state=101)"
   ]
  },
  {
   "cell_type": "code",
   "execution_count": 340,
   "id": "46ceb417",
   "metadata": {},
   "outputs": [
    {
     "name": "stderr",
     "output_type": "stream",
     "text": [
      "C:\\Users\\ASUS\\anaconda3\\Lib\\site-packages\\sklearn\\linear_model\\_logistic.py:460: ConvergenceWarning: lbfgs failed to converge (status=1):\n",
      "STOP: TOTAL NO. of ITERATIONS REACHED LIMIT.\n",
      "\n",
      "Increase the number of iterations (max_iter) or scale the data as shown in:\n",
      "    https://scikit-learn.org/stable/modules/preprocessing.html\n",
      "Please also refer to the documentation for alternative solver options:\n",
      "    https://scikit-learn.org/stable/modules/linear_model.html#logistic-regression\n",
      "  n_iter_i = _check_optimize_result(\n"
     ]
    },
    {
     "data": {
      "text/html": [
       "<style>#sk-container-id-1 {color: black;}#sk-container-id-1 pre{padding: 0;}#sk-container-id-1 div.sk-toggleable {background-color: white;}#sk-container-id-1 label.sk-toggleable__label {cursor: pointer;display: block;width: 100%;margin-bottom: 0;padding: 0.3em;box-sizing: border-box;text-align: center;}#sk-container-id-1 label.sk-toggleable__label-arrow:before {content: \"▸\";float: left;margin-right: 0.25em;color: #696969;}#sk-container-id-1 label.sk-toggleable__label-arrow:hover:before {color: black;}#sk-container-id-1 div.sk-estimator:hover label.sk-toggleable__label-arrow:before {color: black;}#sk-container-id-1 div.sk-toggleable__content {max-height: 0;max-width: 0;overflow: hidden;text-align: left;background-color: #f0f8ff;}#sk-container-id-1 div.sk-toggleable__content pre {margin: 0.2em;color: black;border-radius: 0.25em;background-color: #f0f8ff;}#sk-container-id-1 input.sk-toggleable__control:checked~div.sk-toggleable__content {max-height: 200px;max-width: 100%;overflow: auto;}#sk-container-id-1 input.sk-toggleable__control:checked~label.sk-toggleable__label-arrow:before {content: \"▾\";}#sk-container-id-1 div.sk-estimator input.sk-toggleable__control:checked~label.sk-toggleable__label {background-color: #d4ebff;}#sk-container-id-1 div.sk-label input.sk-toggleable__control:checked~label.sk-toggleable__label {background-color: #d4ebff;}#sk-container-id-1 input.sk-hidden--visually {border: 0;clip: rect(1px 1px 1px 1px);clip: rect(1px, 1px, 1px, 1px);height: 1px;margin: -1px;overflow: hidden;padding: 0;position: absolute;width: 1px;}#sk-container-id-1 div.sk-estimator {font-family: monospace;background-color: #f0f8ff;border: 1px dotted black;border-radius: 0.25em;box-sizing: border-box;margin-bottom: 0.5em;}#sk-container-id-1 div.sk-estimator:hover {background-color: #d4ebff;}#sk-container-id-1 div.sk-parallel-item::after {content: \"\";width: 100%;border-bottom: 1px solid gray;flex-grow: 1;}#sk-container-id-1 div.sk-label:hover label.sk-toggleable__label {background-color: #d4ebff;}#sk-container-id-1 div.sk-serial::before {content: \"\";position: absolute;border-left: 1px solid gray;box-sizing: border-box;top: 0;bottom: 0;left: 50%;z-index: 0;}#sk-container-id-1 div.sk-serial {display: flex;flex-direction: column;align-items: center;background-color: white;padding-right: 0.2em;padding-left: 0.2em;position: relative;}#sk-container-id-1 div.sk-item {position: relative;z-index: 1;}#sk-container-id-1 div.sk-parallel {display: flex;align-items: stretch;justify-content: center;background-color: white;position: relative;}#sk-container-id-1 div.sk-item::before, #sk-container-id-1 div.sk-parallel-item::before {content: \"\";position: absolute;border-left: 1px solid gray;box-sizing: border-box;top: 0;bottom: 0;left: 50%;z-index: -1;}#sk-container-id-1 div.sk-parallel-item {display: flex;flex-direction: column;z-index: 1;position: relative;background-color: white;}#sk-container-id-1 div.sk-parallel-item:first-child::after {align-self: flex-end;width: 50%;}#sk-container-id-1 div.sk-parallel-item:last-child::after {align-self: flex-start;width: 50%;}#sk-container-id-1 div.sk-parallel-item:only-child::after {width: 0;}#sk-container-id-1 div.sk-dashed-wrapped {border: 1px dashed gray;margin: 0 0.4em 0.5em 0.4em;box-sizing: border-box;padding-bottom: 0.4em;background-color: white;}#sk-container-id-1 div.sk-label label {font-family: monospace;font-weight: bold;display: inline-block;line-height: 1.2em;}#sk-container-id-1 div.sk-label-container {text-align: center;}#sk-container-id-1 div.sk-container {/* jupyter's `normalize.less` sets `[hidden] { display: none; }` but bootstrap.min.css set `[hidden] { display: none !important; }` so we also need the `!important` here to be able to override the default hidden behavior on the sphinx rendered scikit-learn.org. See: https://github.com/scikit-learn/scikit-learn/issues/21755 */display: inline-block !important;position: relative;}#sk-container-id-1 div.sk-text-repr-fallback {display: none;}</style><div id=\"sk-container-id-1\" class=\"sk-top-container\"><div class=\"sk-text-repr-fallback\"><pre>LogisticRegression()</pre><b>In a Jupyter environment, please rerun this cell to show the HTML representation or trust the notebook. <br />On GitHub, the HTML representation is unable to render, please try loading this page with nbviewer.org.</b></div><div class=\"sk-container\" hidden><div class=\"sk-item\"><div class=\"sk-estimator sk-toggleable\"><input class=\"sk-toggleable__control sk-hidden--visually\" id=\"sk-estimator-id-1\" type=\"checkbox\" checked><label for=\"sk-estimator-id-1\" class=\"sk-toggleable__label sk-toggleable__label-arrow\">LogisticRegression</label><div class=\"sk-toggleable__content\"><pre>LogisticRegression()</pre></div></div></div></div></div>"
      ],
      "text/plain": [
       "LogisticRegression()"
      ]
     },
     "execution_count": 340,
     "metadata": {},
     "output_type": "execute_result"
    }
   ],
   "source": [
    "from sklearn.linear_model import LogisticRegression\n",
    "logmodel = LogisticRegression()\n",
    "logmodel.fit(X_train , y_train)"
   ]
  },
  {
   "cell_type": "code",
   "execution_count": 341,
   "id": "475b3edf",
   "metadata": {},
   "outputs": [],
   "source": [
    "prediction = logmodel.predict(X_test)"
   ]
  },
  {
   "cell_type": "code",
   "execution_count": 343,
   "id": "897640be",
   "metadata": {},
   "outputs": [
    {
     "data": {
      "text/plain": [
       "array([0, 0, 0, 1, 1, 1, 1, 1, 1, 1, 1, 0, 0, 0, 0, 1, 0, 1], dtype=int64)"
      ]
     },
     "execution_count": 343,
     "metadata": {},
     "output_type": "execute_result"
    }
   ],
   "source": [
    "prediction"
   ]
  },
  {
   "cell_type": "code",
   "execution_count": 359,
   "id": "e398fa8f",
   "metadata": {},
   "outputs": [
    {
     "data": {
      "text/html": [
       "<div>\n",
       "<style scoped>\n",
       "    .dataframe tbody tr th:only-of-type {\n",
       "        vertical-align: middle;\n",
       "    }\n",
       "\n",
       "    .dataframe tbody tr th {\n",
       "        vertical-align: top;\n",
       "    }\n",
       "\n",
       "    .dataframe thead th {\n",
       "        text-align: right;\n",
       "    }\n",
       "</style>\n",
       "<table border=\"1\" class=\"dataframe\">\n",
       "  <thead>\n",
       "    <tr style=\"text-align: right;\">\n",
       "      <th></th>\n",
       "      <th>50</th>\n",
       "      <th>6</th>\n",
       "      <th>51</th>\n",
       "      <th>54</th>\n",
       "      <th>53</th>\n",
       "      <th>69</th>\n",
       "      <th>32</th>\n",
       "      <th>31</th>\n",
       "      <th>21</th>\n",
       "      <th>88</th>\n",
       "      <th>43</th>\n",
       "      <th>47</th>\n",
       "      <th>3</th>\n",
       "      <th>1</th>\n",
       "      <th>74</th>\n",
       "      <th>16</th>\n",
       "      <th>45</th>\n",
       "      <th>25</th>\n",
       "    </tr>\n",
       "  </thead>\n",
       "  <tbody>\n",
       "    <tr>\n",
       "      <th>Class</th>\n",
       "      <td>0</td>\n",
       "      <td>1</td>\n",
       "      <td>0</td>\n",
       "      <td>1</td>\n",
       "      <td>1</td>\n",
       "      <td>1</td>\n",
       "      <td>1</td>\n",
       "      <td>1</td>\n",
       "      <td>1</td>\n",
       "      <td>1</td>\n",
       "      <td>1</td>\n",
       "      <td>0</td>\n",
       "      <td>0</td>\n",
       "      <td>0</td>\n",
       "      <td>0</td>\n",
       "      <td>1</td>\n",
       "      <td>0</td>\n",
       "      <td>1</td>\n",
       "    </tr>\n",
       "  </tbody>\n",
       "</table>\n",
       "</div>"
      ],
      "text/plain": [
       "       50  6   51  54  53  69  32  31  21  88  43  47  3   1   74  16  45  25\n",
       "Class   0   1   0   1   1   1   1   1   1   1   1   0   0   0   0   1   0   1"
      ]
     },
     "execution_count": 359,
     "metadata": {},
     "output_type": "execute_result"
    }
   ],
   "source": [
    "# lets evaluate the model by looking at the y_test:\n",
    "pd.Series(y_test).to_frame().T\n"
   ]
  },
  {
   "cell_type": "markdown",
   "id": "933cf20c",
   "metadata": {},
   "source": [
    "######  Evaluation (TP, FP, TN, FN)\n",
    "* if output is 0 or 1 --> we consider negative or positive proportionaly\n",
    "\n",
    "* TP: the model has truely predicted positive\n",
    "* FP: the model has Flasly predicted positive\n",
    "* TN: the model has truely predicted negative\n",
    "* FN: the model has Flasly predicted negative"
   ]
  },
  {
   "cell_type": "code",
   "execution_count": 360,
   "id": "907db1ba",
   "metadata": {},
   "outputs": [
    {
     "data": {
      "text/plain": [
       "array([[ 7,  0],\n",
       "       [ 1, 10]], dtype=int64)"
      ]
     },
     "execution_count": 360,
     "metadata": {},
     "output_type": "execute_result"
    }
   ],
   "source": [
    "# but we can not always assess visualy\n",
    "from sklearn.metrics import confusion_matrix\n",
    "confusion_matrix(y_test,prediction)"
   ]
  },
  {
   "cell_type": "code",
   "execution_count": 362,
   "id": "a0c4ce52",
   "metadata": {},
   "outputs": [],
   "source": [
    "# 7 --> TP\n",
    "# 0 --> FP\n",
    "# 0 --> FN\n",
    "# 10 -->TN\n",
    "# note : the bigger the numbers on the main diameter, the better our model is"
   ]
  },
  {
   "cell_type": "code",
   "execution_count": 363,
   "id": "c330afab",
   "metadata": {},
   "outputs": [
    {
     "data": {
      "text/plain": [
       "17"
      ]
     },
     "execution_count": 363,
     "metadata": {},
     "output_type": "execute_result"
    }
   ],
   "source": [
    "#calculate the number of true predictions using sklearn library\n",
    "from sklearn.metrics import accuracy_score\n",
    "accuracy_score(y_test , prediction, normalize=False)"
   ]
  },
  {
   "cell_type": "code",
   "execution_count": 366,
   "id": "fa4e4779",
   "metadata": {},
   "outputs": [
    {
     "data": {
      "text/plain": [
       "0.9444444444444444"
      ]
     },
     "execution_count": 366,
     "metadata": {},
     "output_type": "execute_result"
    }
   ],
   "source": [
    "# accuracy in percentage term\n",
    "accuracy_score(y_test,prediction, normalize=True)"
   ]
  },
  {
   "cell_type": "code",
   "execution_count": 367,
   "id": "bf9cd412",
   "metadata": {},
   "outputs": [],
   "source": [
    "# end of session 6"
   ]
  },
  {
   "cell_type": "code",
   "execution_count": null,
   "id": "be1abf77",
   "metadata": {},
   "outputs": [],
   "source": []
  }
 ],
 "metadata": {
  "kernelspec": {
   "display_name": "Python 3 (ipykernel)",
   "language": "python",
   "name": "python3"
  },
  "language_info": {
   "codemirror_mode": {
    "name": "ipython",
    "version": 3
   },
   "file_extension": ".py",
   "mimetype": "text/x-python",
   "name": "python",
   "nbconvert_exporter": "python",
   "pygments_lexer": "ipython3",
   "version": "3.11.5"
  }
 },
 "nbformat": 4,
 "nbformat_minor": 5
}
